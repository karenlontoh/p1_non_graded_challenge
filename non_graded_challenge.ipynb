{
 "cells": [
  {
   "cell_type": "markdown",
   "metadata": {},
   "source": [
    "# Preface"
   ]
  },
  {
   "cell_type": "markdown",
   "metadata": {},
   "source": [
    "Nama: Karmenia Ditabaya Lontoh\n",
    "\n",
    "Batch: HCK-021\n",
    "\n",
    "Objectives: Saya adalah Data Scientist baru di Amerika Serikat. Menyadari tingginya biaya perawatan kesehatan, saya tertarik untuk mendapatkan asuransi kesehatan. Namun, saya tidak tahu estimasi premi yang harus dibayar. Saya berencana memprediksi biaya premi asuransi dengan model Machine Learning berdasarkan data biaya asuransi dari publik."
   ]
  },
  {
   "cell_type": "markdown",
   "metadata": {},
   "source": [
    "# Problem Identification"
   ]
  },
  {
   "cell_type": "markdown",
   "metadata": {},
   "source": [
    "## SMART Framework"
   ]
  },
  {
   "cell_type": "markdown",
   "metadata": {},
   "source": [
    "1. **Specific**: Membangun model Machine Learning untuk memprediksi premi asuransi kesehatan tahunan berdasarkan variabel seperti usia, jenis kelamin, BMI, jumlah anak, status merokok, dan wilayah.\n",
    "\n",
    "2. **Measurable**: Kesuksesan diukur dengan metrik dengan target meminimalkan error prediksi.\n",
    "\n",
    "3. **Achievable**: Model menggunakan dataset publik dengan 1,338 entri dan menerapkan algoritma regresi yang sesuai.\n",
    "\n",
    "4. **Relevant**: Prediksi premi asuransi penting untuk membantu individu dalam perencanaan keuangan dan biaya kesehatan di AS.\n",
    "\n",
    "5. **Time-bound**: Proyek akan diselesaikan dalam ... bulan, termasuk pengembangan model dan evaluasi."
   ]
  },
  {
   "cell_type": "markdown",
   "metadata": {},
   "source": [
    "## Problem Statement"
   ]
  },
  {
   "cell_type": "markdown",
   "metadata": {},
   "source": [
    "Memprediksi premi asuransi kesehatan tahunan menggunakan model Machine Learning berdasarkan variabel seperti usia, jenis kelamin, BMI, jumlah anak, dan status merokok, untuk membantu individu memahami dan mengelola biaya perawatan kesehatan."
   ]
  },
  {
   "cell_type": "markdown",
   "metadata": {},
   "source": [
    "## Machine Learning Model"
   ]
  },
  {
   "cell_type": "markdown",
   "metadata": {},
   "source": [
    "Dalam pengembangan machine learning ini, model regresi digunakan untuk memprediksi harga premi. Regresi memungkinkan pemahaman dan prediksi hubungan antara variabel-variabel seperti usia, BMI, status perokok, dan wilayah dengan harga premi. Model regresi efektif dalam memprediksi nilai kontinu seperti premi asuransi berdasarkan data pelanggan, serta mengidentifikasi pola risiko yang mempengaruhi biaya premi."
   ]
  },
  {
   "cell_type": "markdown",
   "metadata": {},
   "source": [
    "# Libraries"
   ]
  },
  {
   "cell_type": "markdown",
   "metadata": {},
   "source": [
    "Dalam pengembangan machine learning, dibutuhkan libraries berikut:"
   ]
  },
  {
   "cell_type": "code",
   "execution_count": 59,
   "metadata": {},
   "outputs": [],
   "source": [
    "import pandas as pd\n",
    "import seaborn as sns\n",
    "import matplotlib.pyplot as plt\n",
    "import numpy as np\n",
    "from sklearn.model_selection import train_test_split"
   ]
  },
  {
   "cell_type": "markdown",
   "metadata": {},
   "source": [
    "Import libraries berhasil dilakukan."
   ]
  },
  {
   "cell_type": "markdown",
   "metadata": {},
   "source": [
    "# Data Loading"
   ]
  },
  {
   "cell_type": "markdown",
   "metadata": {},
   "source": [
    "Dataset yang digunakan dalam pengembangan machine learning dapat dimuat ke dalam program menggunakan fungsi untuk membaca file CSV."
   ]
  },
  {
   "cell_type": "code",
   "execution_count": 60,
   "metadata": {},
   "outputs": [
    {
     "data": {
      "text/html": [
       "<div>\n",
       "<style scoped>\n",
       "    .dataframe tbody tr th:only-of-type {\n",
       "        vertical-align: middle;\n",
       "    }\n",
       "\n",
       "    .dataframe tbody tr th {\n",
       "        vertical-align: top;\n",
       "    }\n",
       "\n",
       "    .dataframe thead th {\n",
       "        text-align: right;\n",
       "    }\n",
       "</style>\n",
       "<table border=\"1\" class=\"dataframe\">\n",
       "  <thead>\n",
       "    <tr style=\"text-align: right;\">\n",
       "      <th></th>\n",
       "      <th>age</th>\n",
       "      <th>sex</th>\n",
       "      <th>bmi</th>\n",
       "      <th>children</th>\n",
       "      <th>smoker</th>\n",
       "      <th>region</th>\n",
       "      <th>charges</th>\n",
       "    </tr>\n",
       "  </thead>\n",
       "  <tbody>\n",
       "    <tr>\n",
       "      <th>0</th>\n",
       "      <td>19</td>\n",
       "      <td>female</td>\n",
       "      <td>27.900</td>\n",
       "      <td>0</td>\n",
       "      <td>yes</td>\n",
       "      <td>southwest</td>\n",
       "      <td>16884.92400</td>\n",
       "    </tr>\n",
       "    <tr>\n",
       "      <th>1</th>\n",
       "      <td>18</td>\n",
       "      <td>male</td>\n",
       "      <td>33.770</td>\n",
       "      <td>1</td>\n",
       "      <td>no</td>\n",
       "      <td>southeast</td>\n",
       "      <td>1725.55230</td>\n",
       "    </tr>\n",
       "    <tr>\n",
       "      <th>2</th>\n",
       "      <td>28</td>\n",
       "      <td>male</td>\n",
       "      <td>33.000</td>\n",
       "      <td>3</td>\n",
       "      <td>no</td>\n",
       "      <td>southeast</td>\n",
       "      <td>4449.46200</td>\n",
       "    </tr>\n",
       "    <tr>\n",
       "      <th>3</th>\n",
       "      <td>33</td>\n",
       "      <td>male</td>\n",
       "      <td>22.705</td>\n",
       "      <td>0</td>\n",
       "      <td>no</td>\n",
       "      <td>northwest</td>\n",
       "      <td>21984.47061</td>\n",
       "    </tr>\n",
       "    <tr>\n",
       "      <th>4</th>\n",
       "      <td>32</td>\n",
       "      <td>male</td>\n",
       "      <td>28.880</td>\n",
       "      <td>0</td>\n",
       "      <td>no</td>\n",
       "      <td>northwest</td>\n",
       "      <td>3866.85520</td>\n",
       "    </tr>\n",
       "    <tr>\n",
       "      <th>...</th>\n",
       "      <td>...</td>\n",
       "      <td>...</td>\n",
       "      <td>...</td>\n",
       "      <td>...</td>\n",
       "      <td>...</td>\n",
       "      <td>...</td>\n",
       "      <td>...</td>\n",
       "    </tr>\n",
       "    <tr>\n",
       "      <th>1333</th>\n",
       "      <td>50</td>\n",
       "      <td>male</td>\n",
       "      <td>30.970</td>\n",
       "      <td>3</td>\n",
       "      <td>no</td>\n",
       "      <td>northwest</td>\n",
       "      <td>10600.54830</td>\n",
       "    </tr>\n",
       "    <tr>\n",
       "      <th>1334</th>\n",
       "      <td>18</td>\n",
       "      <td>female</td>\n",
       "      <td>31.920</td>\n",
       "      <td>0</td>\n",
       "      <td>no</td>\n",
       "      <td>northeast</td>\n",
       "      <td>2205.98080</td>\n",
       "    </tr>\n",
       "    <tr>\n",
       "      <th>1335</th>\n",
       "      <td>18</td>\n",
       "      <td>female</td>\n",
       "      <td>36.850</td>\n",
       "      <td>0</td>\n",
       "      <td>no</td>\n",
       "      <td>southeast</td>\n",
       "      <td>1629.83350</td>\n",
       "    </tr>\n",
       "    <tr>\n",
       "      <th>1336</th>\n",
       "      <td>21</td>\n",
       "      <td>female</td>\n",
       "      <td>25.800</td>\n",
       "      <td>0</td>\n",
       "      <td>no</td>\n",
       "      <td>southwest</td>\n",
       "      <td>2007.94500</td>\n",
       "    </tr>\n",
       "    <tr>\n",
       "      <th>1337</th>\n",
       "      <td>61</td>\n",
       "      <td>female</td>\n",
       "      <td>29.070</td>\n",
       "      <td>0</td>\n",
       "      <td>yes</td>\n",
       "      <td>northwest</td>\n",
       "      <td>29141.36030</td>\n",
       "    </tr>\n",
       "  </tbody>\n",
       "</table>\n",
       "<p>1338 rows × 7 columns</p>\n",
       "</div>"
      ],
      "text/plain": [
       "      age     sex     bmi  children smoker     region      charges\n",
       "0      19  female  27.900         0    yes  southwest  16884.92400\n",
       "1      18    male  33.770         1     no  southeast   1725.55230\n",
       "2      28    male  33.000         3     no  southeast   4449.46200\n",
       "3      33    male  22.705         0     no  northwest  21984.47061\n",
       "4      32    male  28.880         0     no  northwest   3866.85520\n",
       "...   ...     ...     ...       ...    ...        ...          ...\n",
       "1333   50    male  30.970         3     no  northwest  10600.54830\n",
       "1334   18  female  31.920         0     no  northeast   2205.98080\n",
       "1335   18  female  36.850         0     no  southeast   1629.83350\n",
       "1336   21  female  25.800         0     no  southwest   2007.94500\n",
       "1337   61  female  29.070         0    yes  northwest  29141.36030\n",
       "\n",
       "[1338 rows x 7 columns]"
      ]
     },
     "execution_count": 60,
     "metadata": {},
     "output_type": "execute_result"
    }
   ],
   "source": [
    "df = pd.read_csv('https://raw.githubusercontent.com/FTDS-learning-materials/datasets/main/insurance.csv')\n",
    "df"
   ]
  },
  {
   "cell_type": "markdown",
   "metadata": {},
   "source": [
    "Dataset berhasil disimpan pada variabel df."
   ]
  },
  {
   "cell_type": "markdown",
   "metadata": {},
   "source": [
    "# Data Exploration"
   ]
  },
  {
   "cell_type": "markdown",
   "metadata": {},
   "source": [
    "## Summary Information"
   ]
  },
  {
   "cell_type": "code",
   "execution_count": 61,
   "metadata": {},
   "outputs": [
    {
     "name": "stdout",
     "output_type": "stream",
     "text": [
      "<class 'pandas.core.frame.DataFrame'>\n",
      "RangeIndex: 1338 entries, 0 to 1337\n",
      "Data columns (total 7 columns):\n",
      " #   Column    Non-Null Count  Dtype  \n",
      "---  ------    --------------  -----  \n",
      " 0   age       1338 non-null   int64  \n",
      " 1   sex       1338 non-null   object \n",
      " 2   bmi       1338 non-null   float64\n",
      " 3   children  1338 non-null   int64  \n",
      " 4   smoker    1338 non-null   object \n",
      " 5   region    1338 non-null   object \n",
      " 6   charges   1338 non-null   float64\n",
      "dtypes: float64(2), int64(2), object(3)\n",
      "memory usage: 73.3+ KB\n"
     ]
    }
   ],
   "source": [
    "df.info()"
   ]
  },
  {
   "cell_type": "markdown",
   "metadata": {},
   "source": [
    "Berdasarkan ringkasan informasi, didapatkan insight sebagai berikut:\n",
    "\n",
    "1. Jumlah entri: Terdapat 1.338 entri dalam dataset, menunjukkan ukuran sampel yang cukup untuk analisis.\n",
    "2. Tidak ada missing values: Semua kolom memiliki nilai lengkap, meningkatkan kualitas data dan keandalan analisis.\n",
    "3. Kolom numerik: Terdapat dua kolom numerik (age dan bmi) dan satu kolom target (charges) yang dapat digunakan untuk analisis regresi.\n",
    "4. Kolom kategorikal: Terdapat tiga kolom kategorikal (sex, smoker, dan region) yang dapat dianalisis untuk memahami pengaruh demografis terhadap biaya premi.\n",
    "5. Kesiapan untuk analisis: Kualitas data yang baik menunjukkan kesiapan untuk analisis lebih lanjut dan pemodelan machine learning."
   ]
  },
  {
   "cell_type": "code",
   "execution_count": 62,
   "metadata": {},
   "outputs": [
    {
     "name": "stdout",
     "output_type": "stream",
     "text": [
      "'age': [19, 18, 28, 33, 32, 31, 46, 37, 60, 25]\n",
      "'sex': ['female', 'male']\n",
      "'bmi': [27.9, 33.77, 33.0, 22.705, 28.88, 25.74, 33.44, 27.74, 29.83, 25.84]\n",
      "'children': [0, 1, 3, 2, 5, 4]\n",
      "'smoker': ['yes', 'no']\n",
      "'region': ['southwest', 'southeast', 'northwest', 'northeast']\n",
      "'charges': [16884.924, 1725.5523, 4449.462, 21984.47061, 3866.8552, 3756.6216, 8240.5896, 7281.5056, 6406.4107, 28923.13692]\n"
     ]
    }
   ],
   "source": [
    "# Mengecek 5 nilai unik pertama di setiap kolom\n",
    "unique_values = df.apply(lambda x: x.unique()[:10])\n",
    "\n",
    "# Menampilkan 5 nilai unik pertama di setiap kolom\n",
    "for column, values in unique_values.items():\n",
    "    print(f\"'{column}': {values.tolist()}\")"
   ]
  },
  {
   "cell_type": "markdown",
   "metadata": {},
   "source": [
    "Berdasarkan data yang disediakan, berikut adalah insight singkat:\n",
    "\n",
    "1. Variasi Umur: Rentang umur dari 18 hingga 60 tahun menunjukkan keragaman profil risiko.\n",
    "2. BMI Beragam: Nilai BMI antara 22,705 dan 33,77 menunjukkan potensi risiko kesehatan yang berbeda.\n",
    "3. Jumlah Anak: Beberapa individu tidak memiliki anak, sementara yang lain memiliki hingga lima anak, mempengaruhi biaya premi.\n",
    "4. Status Merokok: Ada perbedaan biaya premi yang signifikan antara perokok dan non-perokok.\n",
    "5. Distribusi Wilayah: Data mencakup beberapa wilayah yang dapat memengaruhi biaya premi.\n",
    "6. Biaya Premi Beragam: Variasi biaya premi dari 1.725,55 hingga 28.923,14 menunjukkan potensi risiko yang kompleks.\n",
    "7. Pola Risiko: Dataset dapat dianalisis untuk memahami pola risiko terkait biaya premi asuransi.\n",
    "8. Data cleaning: Dataset ini tidak memerlukan data cleaning karena semua kolom memiliki tipe data yang sesuai, format nilai yang konsisten, tidak ada nilai kosong, outlier terkelola, dan tidak terdapat duplikasi."
   ]
  },
  {
   "cell_type": "code",
   "execution_count": 63,
   "metadata": {},
   "outputs": [
    {
     "data": {
      "text/html": [
       "<div>\n",
       "<style scoped>\n",
       "    .dataframe tbody tr th:only-of-type {\n",
       "        vertical-align: middle;\n",
       "    }\n",
       "\n",
       "    .dataframe tbody tr th {\n",
       "        vertical-align: top;\n",
       "    }\n",
       "\n",
       "    .dataframe thead th {\n",
       "        text-align: right;\n",
       "    }\n",
       "</style>\n",
       "<table border=\"1\" class=\"dataframe\">\n",
       "  <thead>\n",
       "    <tr style=\"text-align: right;\">\n",
       "      <th></th>\n",
       "      <th>count</th>\n",
       "      <th>mean</th>\n",
       "      <th>std</th>\n",
       "      <th>min</th>\n",
       "      <th>25%</th>\n",
       "      <th>50%</th>\n",
       "      <th>75%</th>\n",
       "      <th>max</th>\n",
       "    </tr>\n",
       "  </thead>\n",
       "  <tbody>\n",
       "    <tr>\n",
       "      <th>age</th>\n",
       "      <td>1338.0</td>\n",
       "      <td>39.207025</td>\n",
       "      <td>14.049960</td>\n",
       "      <td>18.0000</td>\n",
       "      <td>27.00000</td>\n",
       "      <td>39.000</td>\n",
       "      <td>51.000000</td>\n",
       "      <td>64.00000</td>\n",
       "    </tr>\n",
       "    <tr>\n",
       "      <th>bmi</th>\n",
       "      <td>1338.0</td>\n",
       "      <td>30.663397</td>\n",
       "      <td>6.098187</td>\n",
       "      <td>15.9600</td>\n",
       "      <td>26.29625</td>\n",
       "      <td>30.400</td>\n",
       "      <td>34.693750</td>\n",
       "      <td>53.13000</td>\n",
       "    </tr>\n",
       "    <tr>\n",
       "      <th>children</th>\n",
       "      <td>1338.0</td>\n",
       "      <td>1.094918</td>\n",
       "      <td>1.205493</td>\n",
       "      <td>0.0000</td>\n",
       "      <td>0.00000</td>\n",
       "      <td>1.000</td>\n",
       "      <td>2.000000</td>\n",
       "      <td>5.00000</td>\n",
       "    </tr>\n",
       "    <tr>\n",
       "      <th>charges</th>\n",
       "      <td>1338.0</td>\n",
       "      <td>13270.422265</td>\n",
       "      <td>12110.011237</td>\n",
       "      <td>1121.8739</td>\n",
       "      <td>4740.28715</td>\n",
       "      <td>9382.033</td>\n",
       "      <td>16639.912515</td>\n",
       "      <td>63770.42801</td>\n",
       "    </tr>\n",
       "  </tbody>\n",
       "</table>\n",
       "</div>"
      ],
      "text/plain": [
       "           count          mean           std        min         25%       50%  \\\n",
       "age       1338.0     39.207025     14.049960    18.0000    27.00000    39.000   \n",
       "bmi       1338.0     30.663397      6.098187    15.9600    26.29625    30.400   \n",
       "children  1338.0      1.094918      1.205493     0.0000     0.00000     1.000   \n",
       "charges   1338.0  13270.422265  12110.011237  1121.8739  4740.28715  9382.033   \n",
       "\n",
       "                   75%          max  \n",
       "age          51.000000     64.00000  \n",
       "bmi          34.693750     53.13000  \n",
       "children      2.000000      5.00000  \n",
       "charges   16639.912515  63770.42801  "
      ]
     },
     "execution_count": 63,
     "metadata": {},
     "output_type": "execute_result"
    }
   ],
   "source": [
    "# Cek statistik sederhana pada dataset\n",
    "df.describe().T"
   ]
  },
  {
   "cell_type": "markdown",
   "metadata": {},
   "source": [
    "# Exploratory Data Analysis (EDA)"
   ]
  },
  {
   "cell_type": "markdown",
   "metadata": {},
   "source": [
    "## Functions"
   ]
  },
  {
   "cell_type": "markdown",
   "metadata": {},
   "source": [
    "Untuk mempermudah proses eksplorasi data (EDA), maka, dibuat fungsi untuk memeriksa outlier, menganalisis distribusi variabel, dan mengecek missing value."
   ]
  },
  {
   "cell_type": "markdown",
   "metadata": {},
   "source": [
    "### Function Cek Outlier"
   ]
  },
  {
   "cell_type": "code",
   "execution_count": 64,
   "metadata": {},
   "outputs": [],
   "source": [
    "def cek_outlier(column):\n",
    "    print(f\"\\n{'====='*40}\")  # Pemisah antar variabel\n",
    "    print(f\"\\nAnalisis Outlier untuk Kolom: '{column.name}'\")\n",
    "    \n",
    "    if pd.api.types.is_numeric_dtype(column):\n",
    "        # Cek skewness\n",
    "        skew_value = column.skew()\n",
    "        \n",
    "        # Untuk distribusi normal (skewness < |±0.5|)\n",
    "        if abs(skew_value) < 0.5:\n",
    "            print(f\"Distribusi Kolom '{column.name}' dianggap normal (Skewness = {skew_value:.3f})\")\n",
    "            mean = column.mean()\n",
    "            std = column.std()\n",
    "            \n",
    "            # Hitung batas untuk outlier menggunakan Z-Score\n",
    "            upper_bound = mean + 3 * std\n",
    "            lower_bound = mean - 3 * std\n",
    "            \n",
    "            # Hitung jumlah dan persentase outlier\n",
    "            outliers_z = column[(column > upper_bound) | (column < lower_bound)]\n",
    "            outlier_count_z = outliers_z.count()\n",
    "            total_count = column.count()\n",
    "            outlier_percentage_z = (outlier_count_z / total_count) * 100\n",
    "            \n",
    "            # Tampilkan boxplot\n",
    "            plt.figure(figsize=(10, 5))\n",
    "            sns.boxplot(x=column)\n",
    "            plt.title(f\"Boxplot Kolom '{column.name}' (Z-Score)\")\n",
    "            plt.xlabel(column.name)\n",
    "            plt.show()\n",
    "            \n",
    "            # Tampilkan informasi outlier\n",
    "            print(f\"Jumlah Outlier (Z-Score): {outlier_count_z} dari {total_count} total data\")\n",
    "            print(f\"Persentase Outlier (Z-Score): {outlier_percentage_z:.2f}%\")\n",
    "        \n",
    "        # Untuk distribusi skewed (skewness > |±0.5|)\n",
    "        else:\n",
    "            print(f\"Distribusi Kolom '{column.name}' tidak normal (Skewness = {skew_value:.3f})\")\n",
    "            Q1 = column.quantile(0.25)\n",
    "            Q3 = column.quantile(0.75)\n",
    "            IQR = Q3 - Q1\n",
    "            \n",
    "            # Hitung batas untuk outlier menggunakan Tukey's Rule\n",
    "            upper_bound = Q3 + 1.5 * IQR\n",
    "            lower_bound = Q1 - 1.5 * IQR\n",
    "            \n",
    "            # Hitung jumlah dan persentase outlier\n",
    "            outliers_tukey = column[(column > upper_bound) | (column < lower_bound)]\n",
    "            outlier_count_tukey = outliers_tukey.count()\n",
    "            total_count = column.count()\n",
    "            outlier_percentage_tukey = (outlier_count_tukey / total_count) * 100\n",
    "            \n",
    "            # Tampilkan boxplot\n",
    "            plt.figure(figsize=(10, 5))\n",
    "            sns.boxplot(x=column)\n",
    "            plt.title(f\"Boxplot Kolom '{column.name}' (Tukey's Rule)\")\n",
    "            plt.xlabel(column.name)\n",
    "            plt.show()\n",
    "            \n",
    "            # Tampilkan informasi outlier\n",
    "            print(f\"Jumlah Outlier (Tukey's Rule): {outlier_count_tukey} dari {total_count} total data\")\n",
    "            print(f\"Persentase Outlier (Tukey's Rule): {outlier_percentage_tukey:.2f}%\")"
   ]
  },
  {
   "cell_type": "markdown",
   "metadata": {},
   "source": [
    "Fungsi `cek_outlier` digunakan untuk menganalisis outlier dalam sebuah kolom pada DataFrame. Fungsi ini mengidentifikasi dan menghitung jumlah serta persentase outlier berdasarkan dua metode: **Z-Score** untuk distribusi normal dan **Tukey's Rule** untuk distribusi yang skewed. Berikut adalah penjelasan detail tentang bagaimana fungsi ini bekerja:\n",
    "\n",
    "**Cara Kerja**\n",
    "\n",
    "1. **Pemisah Output**:\n",
    "   - Fungsi dimulai dengan mencetak pemisah untuk meningkatkan keterbacaan output.\n",
    "   - Menampilkan nama kolom yang sedang dianalisis.\n",
    "\n",
    "2. **Memeriksa Tipe Data**:\n",
    "   - Fungsi memeriksa apakah kolom yang dianalisis adalah tipe numerik menggunakan `pd.api.types.is_numeric_dtype()`.\n",
    "\n",
    "3. **Menghitung Skewness**:\n",
    "   - Skewness kolom dihitung untuk menentukan apakah distribusi kolom tersebut normal atau tidak. \n",
    "   - Jika nilai skewness kurang dari |±0.5|, kolom dianggap memiliki distribusi normal.\n",
    "\n",
    "4. **Distribusi Normal (Z-Score)**:\n",
    "   - Jika kolom dianggap normal:\n",
    "     - Rata-rata dan standar deviasi kolom dihitung.\n",
    "     - Batas atas dan bawah untuk outlier dihitung menggunakan Z-Score: \n",
    "       - **Upper Bound**: `mean + 3 * std`\n",
    "       - **Lower Bound**: `mean - 3 * std`\n",
    "     - Jumlah dan persentase outlier dihitung dan ditampilkan.\n",
    "     - Boxplot kolom ditampilkan untuk visualisasi outlier.\n",
    "\n",
    "5. **Distribusi Skewed (Tukey's Rule)**:\n",
    "   - Jika kolom tidak normal:\n",
    "     - Kuartil pertama (Q1) dan kuartil ketiga (Q3) dihitung untuk menentukan IQR (Interquartile Range):\n",
    "       - **IQR**: `Q3 - Q1`\n",
    "     - Batas atas dan bawah untuk outlier dihitung menggunakan Tukey’s Rule:\n",
    "       - **Upper Bound**: `Q3 + 1.5 * IQR`\n",
    "       - **Lower Bound**: `Q1 - 1.5 * IQR`\n",
    "     - Jumlah dan persentase outlier dihitung dan ditampilkan.\n",
    "     - Boxplot kolom ditampilkan untuk visualisasi outlier."
   ]
  },
  {
   "cell_type": "markdown",
   "metadata": {},
   "source": [
    "### Function Cek Distribusi"
   ]
  },
  {
   "cell_type": "code",
   "execution_count": 65,
   "metadata": {},
   "outputs": [],
   "source": [
    "def cek_distribusi(column):\n",
    "    print(f\"\\n{'====='*40}\")  # Pemisah antar variabel\n",
    "    print(f\"\\nAnalisis untuk Kolom: '{column.name}'\")\n",
    "    \n",
    "    if pd.api.types.is_numeric_dtype(column):\n",
    "        # Cek skewness\n",
    "        skew_value = column.skew()\n",
    "        \n",
    "        # Histogram dan KDE\n",
    "        plt.figure(figsize=(10, 5))\n",
    "        sns.histplot(column, kde=True, bins=30)\n",
    "        plt.axvline(column.mean(), color='r', linestyle='--', label='Mean')\n",
    "        plt.axvline(column.median(), color='g', linestyle='--', label='Median')\n",
    "        plt.axvline(column.mode()[0], color='b', linestyle='--', label='Mode')\n",
    "        \n",
    "        plt.title(f\"Distribusi Kolom '{column.name}' (Skewness = {skew_value:.3f})\")\n",
    "        plt.xlabel(column.name)\n",
    "        plt.ylabel('Frekuensi')\n",
    "        plt.legend()\n",
    "        plt.show()\n",
    "        \n",
    "        # Menentukan distribusi normal atau tidak\n",
    "        if abs(skew_value) < 0.5:\n",
    "            print(f\"Distribusi Kolom '{column.name}': Normal (Skewness = {skew_value:.3f})\")\n",
    "        else:\n",
    "            print(f\"Distribusi Kolom '{column.name}': Tidak Normal (Skewness = {skew_value:.3f})\")\n",
    "    \n",
    "    elif pd.api.types.is_object_dtype(column):\n",
    "        # Plot frekuensi untuk kolom objek\n",
    "        plt.figure(figsize=(10, 5))\n",
    "        value_counts = column.value_counts()\n",
    "        sns.barplot(x=value_counts.index, y=value_counts.values)\n",
    "        \n",
    "        plt.title(f\"Frekuensi Kolom '{column.name}'\")\n",
    "        plt.xlabel(column.name)\n",
    "        plt.ylabel('Frekuensi')\n",
    "        plt.xticks(rotation=45)\n",
    "        plt.show()\n",
    "        \n",
    "        unique_values = column.nunique()\n",
    "        print(f\"Kolom '{column.name}' memiliki {unique_values} nilai unik (Tipe: Object)\")\n",
    "    \n",
    "    else:\n",
    "        print(f\"Kolom '{column.name}' tidak teridentifikasi sebagai numerik atau objek.\")"
   ]
  },
  {
   "cell_type": "markdown",
   "metadata": {},
   "source": [
    "Fungsi `cek_distribusi` digunakan untuk menganalisis distribusi dari kolom dalam sebuah DataFrame. Fungsi ini dapat menangani kolom dengan tipe numerik dan objek, serta menyediakan visualisasi dan informasi terkait distribusi data. Berikut adalah penjelasan detail tentang bagaimana fungsi ini bekerja:\n",
    "\n",
    "Cara Kerja\n",
    "\n",
    "1. **Pemisah Output**:\n",
    "   - Fungsi dimulai dengan mencetak pemisah untuk meningkatkan keterbacaan output.\n",
    "   - Menampilkan nama kolom yang sedang dianalisis.\n",
    "\n",
    "2. **Memeriksa Tipe Data**:\n",
    "   - Fungsi memeriksa apakah kolom yang dianalisis adalah tipe numerik atau objek menggunakan `pd.api.types.is_numeric_dtype()` dan `pd.api.types.is_object_dtype()`.\n",
    "\n",
    "3. **Analisis untuk Kolom Numerik**:\n",
    "   - **Menghitung Skewness**: Skewness kolom dihitung untuk menentukan apakah distribusi kolom tersebut normal atau tidak.\n",
    "   - **Visualisasi Histogram dan KDE**:\n",
    "     - Histogram dan Kernel Density Estimate (KDE) dari kolom ditampilkan.\n",
    "     - Garis vertikal ditambahkan untuk menunjukkan nilai rata-rata (mean), median, dan modus (mode).\n",
    "   - **Menentukan Distribusi**:\n",
    "     - Jika nilai skewness kurang dari |±0.5|, distribusi dianggap normal.\n",
    "     - Jika tidak, distribusi dianggap tidak normal, dan informasi tersebut ditampilkan.\n",
    "\n",
    "4. **Analisis untuk Kolom Objek**:\n",
    "   - Jika kolom adalah tipe objek:\n",
    "     - Plot frekuensi nilai-nilai unik dalam kolom ditampilkan menggunakan barplot.\n",
    "     - Menampilkan jumlah nilai unik yang terdapat dalam kolom.\n"
   ]
  },
  {
   "cell_type": "markdown",
   "metadata": {},
   "source": [
    "### Function Cek Missing Value"
   ]
  },
  {
   "cell_type": "code",
   "execution_count": 66,
   "metadata": {},
   "outputs": [],
   "source": [
    "def cek_missing_values(df):\n",
    "    print(f\"\\n{'====='*40}\")  # Pemisah antar variabel\n",
    "    print(\"Analisis Missing Values:\")\n",
    "    \n",
    "    # Hitung jumlah missing values\n",
    "    missing_counts = df.isnull().sum()\n",
    "    \n",
    "    # Hitung persentase missing values\n",
    "    total_count = df.shape[0]\n",
    "    missing_percentage = (missing_counts / total_count) * 100\n",
    "    \n",
    "    # Buat DataFrame untuk menampilkan hasil\n",
    "    missing_summary = pd.DataFrame({\n",
    "        'Jumlah Missing': missing_counts,\n",
    "        'Persentase Missing (%)': missing_percentage\n",
    "    })\n",
    "    \n",
    "    # Tampilkan hanya kolom dengan nilai yang hilang\n",
    "    missing_summary = missing_summary[missing_summary['Jumlah Missing'] > 0]\n",
    "    \n",
    "    # Tampilkan hasil\n",
    "    if missing_summary.empty:\n",
    "        print(\"Tidak ada nilai yang hilang dalam DataFrame.\")\n",
    "    else:\n",
    "        print(missing_summary)"
   ]
  },
  {
   "cell_type": "markdown",
   "metadata": {},
   "source": [
    "Fungsi ini bertujuan untuk menganalisis nilai yang hilang (missing values) dalam DataFrame yang diberikan. Berikut adalah langkah-langkah yang dilakukan dalam fungsi ini:\n",
    "\n",
    "1. **Pemisah Antara Variabel**: Mencetak garis pemisah untuk memudahkan pembacaan output.\n",
    "2. **Analisis Missing Values**: Menampilkan header untuk analisis nilai yang hilang.\n",
    "3. **Menghitung Jumlah Missing Values**: \n",
    "   - Menggunakan `isnull().sum()` untuk menghitung jumlah nilai yang hilang pada setiap kolom dalam DataFrame.\n",
    "4. **Menghitung Persentase Missing Values**: \n",
    "   - Menghitung persentase nilai yang hilang berdasarkan total jumlah baris dalam DataFrame.\n",
    "5. **Membuat DataFrame Ringkasan**: \n",
    "   - Menggabungkan jumlah dan persentase nilai yang hilang ke dalam DataFrame baru bernama `missing_summary`.\n",
    "6. **Filter DataFrame untuk Menampilkan Kolom yang Memiliki Nilai Hilang**: \n",
    "   - Menyaring `missing_summary` untuk hanya menampilkan kolom yang memiliki nilai yang hilang.\n",
    "7. **Menampilkan Hasil**: \n",
    "   - Jika tidak ada nilai yang hilang, mencetak pesan yang menyatakan bahwa tidak ada nilai yang hilang.\n",
    "   - Jika ada nilai yang hilang, mencetak ringkasan dari jumlah dan persentase nilai yang hilang.\n"
   ]
  },
  {
   "cell_type": "code",
   "execution_count": 67,
   "metadata": {},
   "outputs": [],
   "source": [
    "def check_duplicates(df, subset=None):\n",
    "\n",
    "    # Check for duplicate rows\n",
    "    duplicate_rows = df[df.duplicated(subset=subset)]\n",
    "    \n",
    "    # Count the number of duplicate rows\n",
    "    num_duplicates = duplicate_rows.shape[0]\n",
    "    \n",
    "    # Return the duplicate rows and the count\n",
    "    return duplicate_rows, num_duplicates\n"
   ]
  },
  {
   "cell_type": "markdown",
   "metadata": {},
   "source": [
    "### Function All"
   ]
  },
  {
   "cell_type": "code",
   "execution_count": 68,
   "metadata": {},
   "outputs": [],
   "source": [
    "def analisis_kolom(df):\n",
    "    # Dataframe untuk menyimpan hasil akhir\n",
    "    result_data = []  # Simpan data dalam list, baru diubah ke DataFrame di akhir\n",
    "\n",
    "    # Looping setiap kolom\n",
    "    for column_name in df.columns:\n",
    "        column = df[column_name]\n",
    "        \n",
    "        # Analisis Missing Values\n",
    "        missing_count = column.isnull().sum()\n",
    "        missing_percentage = (missing_count / len(column)) * 100\n",
    "        \n",
    "        # Analisis Outlier\n",
    "        if pd.api.types.is_numeric_dtype(column) and column.notnull().all():\n",
    "            # Cek skewness\n",
    "            skew_value = column.skew()\n",
    "            \n",
    "            if abs(skew_value) < 0.5:\n",
    "                # Distribusi normal, menggunakan Z-Score untuk outlier\n",
    "                mean = column.mean()\n",
    "                std = column.std()\n",
    "                upper_bound = mean + 3 * std\n",
    "                lower_bound = mean - 3 * std\n",
    "                outliers = column[(column > upper_bound) | (column < lower_bound)]\n",
    "            else:\n",
    "                # Distribusi skewed, menggunakan Tukey's Rule untuk outlier\n",
    "                Q1 = column.quantile(0.25)\n",
    "                Q3 = column.quantile(0.75)\n",
    "                IQR = Q3 - Q1\n",
    "                upper_bound = Q3 + 1.5 * IQR\n",
    "                lower_bound = Q1 - 1.5 * IQR\n",
    "                outliers = column[(column > upper_bound) | (column < lower_bound)]\n",
    "            \n",
    "            outlier_count = len(outliers)\n",
    "            outlier_percentage = round((outlier_count / len(column)) * 100, 2)\n",
    "        else:\n",
    "            outlier_count = 0\n",
    "            outlier_percentage = 0\n",
    "        \n",
    "        # Analisis Distribusi\n",
    "        if pd.api.types.is_numeric_dtype(column):\n",
    "            skew_value = column.skew()\n",
    "            if abs(skew_value) < 0.5:\n",
    "                distribusi = 'Normal'\n",
    "            else:\n",
    "                distribusi = 'Tidak Normal'\n",
    "        elif pd.api.types.is_object_dtype(column):\n",
    "            distribusi = f\"{column.nunique()} Nilai Unik\"\n",
    "        else:\n",
    "            distribusi = 'Tidak Dikenal'\n",
    "        \n",
    "        # Tambahkan hasil analisis ke list\n",
    "        result_data.append({\n",
    "            'Kolom': column_name,\n",
    "            'Jumlah Missing': missing_count,\n",
    "            'Persentase Missing': missing_percentage,\n",
    "            'Jumlah Outlier': outlier_count,\n",
    "            'Persentase Outlier': outlier_percentage,\n",
    "            'Distribusi': distribusi\n",
    "        })\n",
    "    # Menyimpan hasil analisis ke dataframe\n",
    "    result_df = pd.DataFrame(result_data)\n",
    "\n",
    "    return result_df"
   ]
  },
  {
   "cell_type": "markdown",
   "metadata": {},
   "source": [
    "Fungsi ini bertujuan untuk menganalisis setiap kolom dalam DataFrame yang diberikan, dengan fokus pada nilai yang hilang, outlier, dan distribusi data. Berikut adalah langkah-langkah yang dilakukan dalam fungsi ini:\n",
    "\n",
    "1. **Inisialisasi Hasil Akhir**:\n",
    "   - Membuat list kosong `result_data` untuk menyimpan hasil analisis untuk setiap kolom.\n",
    "\n",
    "2. **Looping Setiap Kolom**:\n",
    "   - Melakukan iterasi melalui setiap kolom dalam DataFrame.\n",
    "\n",
    "3. **Analisis Missing Values**:\n",
    "   - Menghitung jumlah nilai yang hilang menggunakan `isnull().sum()`.\n",
    "   - Menghitung persentase nilai yang hilang berdasarkan total jumlah baris.\n",
    "\n",
    "4. **Analisis Outlier**:\n",
    "   - Memeriksa apakah kolom memiliki tipe data numerik dan tidak mengandung nilai hilang.\n",
    "   - Menghitung nilai skewness kolom untuk menentukan distribusi data.\n",
    "   - Jika distribusi normal (skewness < 0.5), menggunakan Z-Score untuk mendeteksi outlier.\n",
    "   - Jika distribusi skewed, menggunakan Tukey's Rule untuk mendeteksi outlier.\n",
    "   - Menghitung jumlah dan persentase outlier.\n",
    "\n",
    "5. **Analisis Distribusi**:\n",
    "   - Menentukan jenis distribusi untuk kolom numerik dan objek.\n",
    "   - Mengkategorikan kolom numerik sebagai 'Normal' atau 'Tidak Normal' berdasarkan nilai skewness.\n",
    "   - Menghitung jumlah nilai unik untuk kolom objek.\n",
    "\n",
    "6. **Menyimpan Hasil Analisis**:\n",
    "   - Menambahkan hasil analisis untuk setiap kolom ke dalam list `result_data`."
   ]
  },
  {
   "cell_type": "markdown",
   "metadata": {},
   "source": [
    "## Distribusi Variabel"
   ]
  },
  {
   "cell_type": "code",
   "execution_count": 69,
   "metadata": {},
   "outputs": [
    {
     "name": "stdout",
     "output_type": "stream",
     "text": [
      "\n",
      "========================================================================================================================================================================================================\n",
      "\n",
      "Analisis untuk Kolom: 'age'\n"
     ]
    },
    {
     "data": {
      "image/png": "[encoded data removed]",
      "text/plain": [
       "<Figure size 1000x500 with 1 Axes>"
      ]
     },
     "metadata": {},
     "output_type": "display_data"
    },
    {
     "name": "stdout",
     "output_type": "stream",
     "text": [
      "Distribusi Kolom 'age': Normal (Skewness = 0.056)\n",
      "\n",
      "========================================================================================================================================================================================================\n",
      "\n",
      "Analisis untuk Kolom: 'sex'\n"
     ]
    },
    {
     "data": {
      "image/png": "[encoded data removed]",
      "text/plain": [
       "<Figure size 1000x500 with 1 Axes>"
      ]
     },
     "metadata": {},
     "output_type": "display_data"
    },
    {
     "name": "stdout",
     "output_type": "stream",
     "text": [
      "Kolom 'sex' memiliki 2 nilai unik (Tipe: Object)\n",
      "\n",
      "========================================================================================================================================================================================================\n",
      "\n",
      "Analisis untuk Kolom: 'bmi'\n"
     ]
    },
    {
     "data": {
      "image/png": "[encoded data removed]",
      "text/plain": [
       "<Figure size 1000x500 with 1 Axes>"
      ]
     },
     "metadata": {},
     "output_type": "display_data"
    },
    {
     "name": "stdout",
     "output_type": "stream",
     "text": [
      "Distribusi Kolom 'bmi': Normal (Skewness = 0.284)\n",
      "\n",
      "========================================================================================================================================================================================================\n",
      "\n",
      "Analisis untuk Kolom: 'children'\n"
     ]
    },
    {
     "data": {
      "image/png": "[encoded data removed]",
      "text/plain": [
       "<Figure size 1000x500 with 1 Axes>"
      ]
     },
     "metadata": {},
     "output_type": "display_data"
    },
    {
     "name": "stdout",
     "output_type": "stream",
     "text": [
      "Distribusi Kolom 'children': Tidak Normal (Skewness = 0.938)\n",
      "\n",
      "========================================================================================================================================================================================================\n",
      "\n",
      "Analisis untuk Kolom: 'smoker'\n"
     ]
    },
    {
     "data": {
      "image/png": "[encoded data removed]",
      "text/plain": [
       "<Figure size 1000x500 with 1 Axes>"
      ]
     },
     "metadata": {},
     "output_type": "display_data"
    },
    {
     "name": "stdout",
     "output_type": "stream",
     "text": [
      "Kolom 'smoker' memiliki 2 nilai unik (Tipe: Object)\n",
      "\n",
      "========================================================================================================================================================================================================\n",
      "\n",
      "Analisis untuk Kolom: 'region'\n"
     ]
    },
    {
     "data": {
      "image/png": "[encoded data removed]",
      "text/plain": [
       "<Figure size 1000x500 with 1 Axes>"
      ]
     },
     "metadata": {},
     "output_type": "display_data"
    },
    {
     "name": "stdout",
     "output_type": "stream",
     "text": [
      "Kolom 'region' memiliki 4 nilai unik (Tipe: Object)\n",
      "\n",
      "========================================================================================================================================================================================================\n",
      "\n",
      "Analisis untuk Kolom: 'charges'\n"
     ]
    },
    {
     "data": {
      "image/png": "[encoded data removed]",
      "text/plain": [
       "<Figure size 1000x500 with 1 Axes>"
      ]
     },
     "metadata": {},
     "output_type": "display_data"
    },
    {
     "name": "stdout",
     "output_type": "stream",
     "text": [
      "Distribusi Kolom 'charges': Tidak Normal (Skewness = 1.516)\n"
     ]
    }
   ],
   "source": [
    "# Cek distribusi untuk setiap kolom\n",
    "for column in df.columns:\n",
    "    cek_distribusi(df[column])"
   ]
  },
  {
   "cell_type": "markdown",
   "metadata": {},
   "source": [
    "## Deteksi Missing Values"
   ]
  },
  {
   "cell_type": "code",
   "execution_count": 70,
   "metadata": {},
   "outputs": [
    {
     "name": "stdout",
     "output_type": "stream",
     "text": [
      "\n",
      "========================================================================================================================================================================================================\n",
      "Analisis Missing Values:\n",
      "Tidak ada nilai yang hilang dalam DataFrame.\n"
     ]
    }
   ],
   "source": [
    "# Cek missing values\n",
    "cek_missing_values(df)"
   ]
  },
  {
   "cell_type": "markdown",
   "metadata": {},
   "source": [
    "## Deteksi Outlier"
   ]
  },
  {
   "cell_type": "code",
   "execution_count": 71,
   "metadata": {},
   "outputs": [
    {
     "name": "stdout",
     "output_type": "stream",
     "text": [
      "\n",
      "========================================================================================================================================================================================================\n",
      "\n",
      "Analisis Outlier untuk Kolom: 'age'\n",
      "Distribusi Kolom 'age' dianggap normal (Skewness = 0.056)\n"
     ]
    },
    {
     "data": {
      "image/png": "[encoded data removed]",
      "text/plain": [
       "<Figure size 1000x500 with 1 Axes>"
      ]
     },
     "metadata": {},
     "output_type": "display_data"
    },
    {
     "name": "stdout",
     "output_type": "stream",
     "text": [
      "Jumlah Outlier (Z-Score): 0 dari 1338 total data\n",
      "Persentase Outlier (Z-Score): 0.00%\n",
      "\n",
      "========================================================================================================================================================================================================\n",
      "\n",
      "Analisis Outlier untuk Kolom: 'bmi'\n",
      "Distribusi Kolom 'bmi' dianggap normal (Skewness = 0.284)\n"
     ]
    },
    {
     "data": {
      "image/png": "[encoded data removed]",
      "text/plain": [
       "<Figure size 1000x500 with 1 Axes>"
      ]
     },
     "metadata": {},
     "output_type": "display_data"
    },
    {
     "name": "stdout",
     "output_type": "stream",
     "text": [
      "Jumlah Outlier (Z-Score): 4 dari 1338 total data\n",
      "Persentase Outlier (Z-Score): 0.30%\n",
      "\n",
      "========================================================================================================================================================================================================\n",
      "\n",
      "Analisis Outlier untuk Kolom: 'children'\n",
      "Distribusi Kolom 'children' tidak normal (Skewness = 0.938)\n"
     ]
    },
    {
     "data": {
      "image/png": "[encoded data removed]",
      "text/plain": [
       "<Figure size 1000x500 with 1 Axes>"
      ]
     },
     "metadata": {},
     "output_type": "display_data"
    },
    {
     "name": "stdout",
     "output_type": "stream",
     "text": [
      "Jumlah Outlier (Tukey's Rule): 0 dari 1338 total data\n",
      "Persentase Outlier (Tukey's Rule): 0.00%\n",
      "\n",
      "========================================================================================================================================================================================================\n",
      "\n",
      "Analisis Outlier untuk Kolom: 'charges'\n",
      "Distribusi Kolom 'charges' tidak normal (Skewness = 1.516)\n"
     ]
    },
    {
     "data": {
      "image/png": "[encoded data removed]",
      "text/plain": [
       "<Figure size 1000x500 with 1 Axes>"
      ]
     },
     "metadata": {},
     "output_type": "display_data"
    },
    {
     "name": "stdout",
     "output_type": "stream",
     "text": [
      "Jumlah Outlier (Tukey's Rule): 139 dari 1338 total data\n",
      "Persentase Outlier (Tukey's Rule): 10.39%\n"
     ]
    }
   ],
   "source": [
    "for column_name in df.select_dtypes(include=[np.number]).columns:\n",
    "    cek_outlier(df[column_name])"
   ]
  },
  {
   "cell_type": "code",
   "execution_count": 72,
   "metadata": {},
   "outputs": [
    {
     "name": "stdout",
     "output_type": "stream",
     "text": [
      "Total duplicates: 1\n"
     ]
    },
    {
     "data": {
      "text/html": [
       "<div>\n",
       "<style scoped>\n",
       "    .dataframe tbody tr th:only-of-type {\n",
       "        vertical-align: middle;\n",
       "    }\n",
       "\n",
       "    .dataframe tbody tr th {\n",
       "        vertical-align: top;\n",
       "    }\n",
       "\n",
       "    .dataframe thead th {\n",
       "        text-align: right;\n",
       "    }\n",
       "</style>\n",
       "<table border=\"1\" class=\"dataframe\">\n",
       "  <thead>\n",
       "    <tr style=\"text-align: right;\">\n",
       "      <th></th>\n",
       "      <th>age</th>\n",
       "      <th>sex</th>\n",
       "      <th>bmi</th>\n",
       "      <th>children</th>\n",
       "      <th>smoker</th>\n",
       "      <th>region</th>\n",
       "      <th>charges</th>\n",
       "    </tr>\n",
       "  </thead>\n",
       "  <tbody>\n",
       "    <tr>\n",
       "      <th>581</th>\n",
       "      <td>19</td>\n",
       "      <td>male</td>\n",
       "      <td>30.59</td>\n",
       "      <td>0</td>\n",
       "      <td>no</td>\n",
       "      <td>northwest</td>\n",
       "      <td>1639.5631</td>\n",
       "    </tr>\n",
       "  </tbody>\n",
       "</table>\n",
       "</div>"
      ],
      "text/plain": [
       "     age   sex    bmi  children smoker     region    charges\n",
       "581   19  male  30.59         0     no  northwest  1639.5631"
      ]
     },
     "execution_count": 72,
     "metadata": {},
     "output_type": "execute_result"
    }
   ],
   "source": [
    "duplicates, total_duplicates = check_duplicates(df)\n",
    "print(f\"Total duplicates: {total_duplicates}\")\n",
    "duplicates"
   ]
  },
  {
   "cell_type": "markdown",
   "metadata": {},
   "source": [
    "## EDA Summary"
   ]
  },
  {
   "cell_type": "code",
   "execution_count": 73,
   "metadata": {},
   "outputs": [
    {
     "data": {
      "text/html": [
       "<div>\n",
       "<style scoped>\n",
       "    .dataframe tbody tr th:only-of-type {\n",
       "        vertical-align: middle;\n",
       "    }\n",
       "\n",
       "    .dataframe tbody tr th {\n",
       "        vertical-align: top;\n",
       "    }\n",
       "\n",
       "    .dataframe thead th {\n",
       "        text-align: right;\n",
       "    }\n",
       "</style>\n",
       "<table border=\"1\" class=\"dataframe\">\n",
       "  <thead>\n",
       "    <tr style=\"text-align: right;\">\n",
       "      <th></th>\n",
       "      <th>Kolom</th>\n",
       "      <th>Jumlah Missing</th>\n",
       "      <th>Persentase Missing</th>\n",
       "      <th>Jumlah Outlier</th>\n",
       "      <th>Persentase Outlier</th>\n",
       "      <th>Distribusi</th>\n",
       "    </tr>\n",
       "  </thead>\n",
       "  <tbody>\n",
       "    <tr>\n",
       "      <th>0</th>\n",
       "      <td>age</td>\n",
       "      <td>0</td>\n",
       "      <td>0.0</td>\n",
       "      <td>0</td>\n",
       "      <td>0.00</td>\n",
       "      <td>Normal</td>\n",
       "    </tr>\n",
       "    <tr>\n",
       "      <th>1</th>\n",
       "      <td>sex</td>\n",
       "      <td>0</td>\n",
       "      <td>0.0</td>\n",
       "      <td>0</td>\n",
       "      <td>0.00</td>\n",
       "      <td>2 Nilai Unik</td>\n",
       "    </tr>\n",
       "    <tr>\n",
       "      <th>2</th>\n",
       "      <td>bmi</td>\n",
       "      <td>0</td>\n",
       "      <td>0.0</td>\n",
       "      <td>4</td>\n",
       "      <td>0.30</td>\n",
       "      <td>Normal</td>\n",
       "    </tr>\n",
       "    <tr>\n",
       "      <th>3</th>\n",
       "      <td>children</td>\n",
       "      <td>0</td>\n",
       "      <td>0.0</td>\n",
       "      <td>0</td>\n",
       "      <td>0.00</td>\n",
       "      <td>Tidak Normal</td>\n",
       "    </tr>\n",
       "    <tr>\n",
       "      <th>4</th>\n",
       "      <td>smoker</td>\n",
       "      <td>0</td>\n",
       "      <td>0.0</td>\n",
       "      <td>0</td>\n",
       "      <td>0.00</td>\n",
       "      <td>2 Nilai Unik</td>\n",
       "    </tr>\n",
       "    <tr>\n",
       "      <th>5</th>\n",
       "      <td>region</td>\n",
       "      <td>0</td>\n",
       "      <td>0.0</td>\n",
       "      <td>0</td>\n",
       "      <td>0.00</td>\n",
       "      <td>4 Nilai Unik</td>\n",
       "    </tr>\n",
       "    <tr>\n",
       "      <th>6</th>\n",
       "      <td>charges</td>\n",
       "      <td>0</td>\n",
       "      <td>0.0</td>\n",
       "      <td>139</td>\n",
       "      <td>10.39</td>\n",
       "      <td>Tidak Normal</td>\n",
       "    </tr>\n",
       "  </tbody>\n",
       "</table>\n",
       "</div>"
      ],
      "text/plain": [
       "      Kolom  Jumlah Missing  Persentase Missing  Jumlah Outlier  \\\n",
       "0       age               0                 0.0               0   \n",
       "1       sex               0                 0.0               0   \n",
       "2       bmi               0                 0.0               4   \n",
       "3  children               0                 0.0               0   \n",
       "4    smoker               0                 0.0               0   \n",
       "5    region               0                 0.0               0   \n",
       "6   charges               0                 0.0             139   \n",
       "\n",
       "   Persentase Outlier    Distribusi  \n",
       "0                0.00        Normal  \n",
       "1                0.00  2 Nilai Unik  \n",
       "2                0.30        Normal  \n",
       "3                0.00  Tidak Normal  \n",
       "4                0.00  2 Nilai Unik  \n",
       "5                0.00  4 Nilai Unik  \n",
       "6               10.39  Tidak Normal  "
      ]
     },
     "execution_count": 73,
     "metadata": {},
     "output_type": "execute_result"
    }
   ],
   "source": [
    "result = analisis_kolom(df)\n",
    "result"
   ]
  },
  {
   "cell_type": "markdown",
   "metadata": {},
   "source": [
    "# Feature Engineering"
   ]
  },
  {
   "cell_type": "markdown",
   "metadata": {},
   "source": [
    "## Feature Creation"
   ]
  },
  {
   "cell_type": "markdown",
   "metadata": {},
   "source": [
    "### Discretization"
   ]
  },
  {
   "cell_type": "markdown",
   "metadata": {},
   "source": [
    "#### Grouping Age"
   ]
  },
  {
   "cell_type": "markdown",
   "metadata": {},
   "source": [
    "Mengelompokkan usia menjadi kategori:\n",
    "| Age Range  | Category |\n",
    "|------------|----------|\n",
    "| 18 - 30    | Young    |\n",
    "| 31 - 45    | Adult    |\n",
    "| > 45       | Senior   |"
   ]
  },
  {
   "cell_type": "code",
   "execution_count": 74,
   "metadata": {},
   "outputs": [
    {
     "data": {
      "text/html": [
       "<div>\n",
       "<style scoped>\n",
       "    .dataframe tbody tr th:only-of-type {\n",
       "        vertical-align: middle;\n",
       "    }\n",
       "\n",
       "    .dataframe tbody tr th {\n",
       "        vertical-align: top;\n",
       "    }\n",
       "\n",
       "    .dataframe thead th {\n",
       "        text-align: right;\n",
       "    }\n",
       "</style>\n",
       "<table border=\"1\" class=\"dataframe\">\n",
       "  <thead>\n",
       "    <tr style=\"text-align: right;\">\n",
       "      <th></th>\n",
       "      <th>age</th>\n",
       "      <th>sex</th>\n",
       "      <th>bmi</th>\n",
       "      <th>children</th>\n",
       "      <th>smoker</th>\n",
       "      <th>region</th>\n",
       "      <th>charges</th>\n",
       "      <th>age_category</th>\n",
       "    </tr>\n",
       "  </thead>\n",
       "  <tbody>\n",
       "    <tr>\n",
       "      <th>0</th>\n",
       "      <td>19</td>\n",
       "      <td>female</td>\n",
       "      <td>27.900</td>\n",
       "      <td>0</td>\n",
       "      <td>yes</td>\n",
       "      <td>southwest</td>\n",
       "      <td>16884.92400</td>\n",
       "      <td>young</td>\n",
       "    </tr>\n",
       "    <tr>\n",
       "      <th>1</th>\n",
       "      <td>18</td>\n",
       "      <td>male</td>\n",
       "      <td>33.770</td>\n",
       "      <td>1</td>\n",
       "      <td>no</td>\n",
       "      <td>southeast</td>\n",
       "      <td>1725.55230</td>\n",
       "      <td>young</td>\n",
       "    </tr>\n",
       "    <tr>\n",
       "      <th>2</th>\n",
       "      <td>28</td>\n",
       "      <td>male</td>\n",
       "      <td>33.000</td>\n",
       "      <td>3</td>\n",
       "      <td>no</td>\n",
       "      <td>southeast</td>\n",
       "      <td>4449.46200</td>\n",
       "      <td>young</td>\n",
       "    </tr>\n",
       "    <tr>\n",
       "      <th>3</th>\n",
       "      <td>33</td>\n",
       "      <td>male</td>\n",
       "      <td>22.705</td>\n",
       "      <td>0</td>\n",
       "      <td>no</td>\n",
       "      <td>northwest</td>\n",
       "      <td>21984.47061</td>\n",
       "      <td>adult</td>\n",
       "    </tr>\n",
       "    <tr>\n",
       "      <th>4</th>\n",
       "      <td>32</td>\n",
       "      <td>male</td>\n",
       "      <td>28.880</td>\n",
       "      <td>0</td>\n",
       "      <td>no</td>\n",
       "      <td>northwest</td>\n",
       "      <td>3866.85520</td>\n",
       "      <td>adult</td>\n",
       "    </tr>\n",
       "    <tr>\n",
       "      <th>...</th>\n",
       "      <td>...</td>\n",
       "      <td>...</td>\n",
       "      <td>...</td>\n",
       "      <td>...</td>\n",
       "      <td>...</td>\n",
       "      <td>...</td>\n",
       "      <td>...</td>\n",
       "      <td>...</td>\n",
       "    </tr>\n",
       "    <tr>\n",
       "      <th>1333</th>\n",
       "      <td>50</td>\n",
       "      <td>male</td>\n",
       "      <td>30.970</td>\n",
       "      <td>3</td>\n",
       "      <td>no</td>\n",
       "      <td>northwest</td>\n",
       "      <td>10600.54830</td>\n",
       "      <td>senior</td>\n",
       "    </tr>\n",
       "    <tr>\n",
       "      <th>1334</th>\n",
       "      <td>18</td>\n",
       "      <td>female</td>\n",
       "      <td>31.920</td>\n",
       "      <td>0</td>\n",
       "      <td>no</td>\n",
       "      <td>northeast</td>\n",
       "      <td>2205.98080</td>\n",
       "      <td>young</td>\n",
       "    </tr>\n",
       "    <tr>\n",
       "      <th>1335</th>\n",
       "      <td>18</td>\n",
       "      <td>female</td>\n",
       "      <td>36.850</td>\n",
       "      <td>0</td>\n",
       "      <td>no</td>\n",
       "      <td>southeast</td>\n",
       "      <td>1629.83350</td>\n",
       "      <td>young</td>\n",
       "    </tr>\n",
       "    <tr>\n",
       "      <th>1336</th>\n",
       "      <td>21</td>\n",
       "      <td>female</td>\n",
       "      <td>25.800</td>\n",
       "      <td>0</td>\n",
       "      <td>no</td>\n",
       "      <td>southwest</td>\n",
       "      <td>2007.94500</td>\n",
       "      <td>young</td>\n",
       "    </tr>\n",
       "    <tr>\n",
       "      <th>1337</th>\n",
       "      <td>61</td>\n",
       "      <td>female</td>\n",
       "      <td>29.070</td>\n",
       "      <td>0</td>\n",
       "      <td>yes</td>\n",
       "      <td>northwest</td>\n",
       "      <td>29141.36030</td>\n",
       "      <td>senior</td>\n",
       "    </tr>\n",
       "  </tbody>\n",
       "</table>\n",
       "<p>1338 rows × 8 columns</p>\n",
       "</div>"
      ],
      "text/plain": [
       "      age     sex     bmi  children smoker     region      charges  \\\n",
       "0      19  female  27.900         0    yes  southwest  16884.92400   \n",
       "1      18    male  33.770         1     no  southeast   1725.55230   \n",
       "2      28    male  33.000         3     no  southeast   4449.46200   \n",
       "3      33    male  22.705         0     no  northwest  21984.47061   \n",
       "4      32    male  28.880         0     no  northwest   3866.85520   \n",
       "...   ...     ...     ...       ...    ...        ...          ...   \n",
       "1333   50    male  30.970         3     no  northwest  10600.54830   \n",
       "1334   18  female  31.920         0     no  northeast   2205.98080   \n",
       "1335   18  female  36.850         0     no  southeast   1629.83350   \n",
       "1336   21  female  25.800         0     no  southwest   2007.94500   \n",
       "1337   61  female  29.070         0    yes  northwest  29141.36030   \n",
       "\n",
       "     age_category  \n",
       "0           young  \n",
       "1           young  \n",
       "2           young  \n",
       "3           adult  \n",
       "4           adult  \n",
       "...           ...  \n",
       "1333       senior  \n",
       "1334        young  \n",
       "1335        young  \n",
       "1336        young  \n",
       "1337       senior  \n",
       "\n",
       "[1338 rows x 8 columns]"
      ]
     },
     "execution_count": 74,
     "metadata": {},
     "output_type": "execute_result"
    }
   ],
   "source": [
    "# Define conditions for Age ranges\n",
    "conditions = [\n",
    "    (df['age'] >= 18) & (df['age'] <= 30),\n",
    "    (df['age'] >= 31) & (df['age'] <= 45),\n",
    "    (df['age'] > 45)\n",
    "]\n",
    "\n",
    "# Define the corresponding categories\n",
    "choices = ['young', 'adult', 'senior']\n",
    "\n",
    "# Apply the conditions to create the age_Category column\n",
    "df['age_category'] = np.select(conditions, choices)\n",
    "\n",
    "df"
   ]
  },
  {
   "cell_type": "markdown",
   "metadata": {},
   "source": [
    "#### Grouping BMI"
   ]
  },
  {
   "cell_type": "markdown",
   "metadata": {},
   "source": [
    "Mengelompokkan BMI menjadi kategori:\n",
    "| BMI Range         | Category         |\n",
    "|-------------------|------------------|\n",
    "| Below 18.5        | Underweight       |\n",
    "| 18.5—24.9         | Healthy Weight    |\n",
    "| 25.0—29.9         | Overweight        |\n",
    "| 30.0 and Above    | Obesity           |\n"
   ]
  },
  {
   "cell_type": "code",
   "execution_count": 75,
   "metadata": {},
   "outputs": [
    {
     "data": {
      "text/html": [
       "<div>\n",
       "<style scoped>\n",
       "    .dataframe tbody tr th:only-of-type {\n",
       "        vertical-align: middle;\n",
       "    }\n",
       "\n",
       "    .dataframe tbody tr th {\n",
       "        vertical-align: top;\n",
       "    }\n",
       "\n",
       "    .dataframe thead th {\n",
       "        text-align: right;\n",
       "    }\n",
       "</style>\n",
       "<table border=\"1\" class=\"dataframe\">\n",
       "  <thead>\n",
       "    <tr style=\"text-align: right;\">\n",
       "      <th></th>\n",
       "      <th>age</th>\n",
       "      <th>sex</th>\n",
       "      <th>bmi</th>\n",
       "      <th>children</th>\n",
       "      <th>smoker</th>\n",
       "      <th>region</th>\n",
       "      <th>charges</th>\n",
       "      <th>age_category</th>\n",
       "      <th>bmi_category</th>\n",
       "    </tr>\n",
       "  </thead>\n",
       "  <tbody>\n",
       "    <tr>\n",
       "      <th>0</th>\n",
       "      <td>19</td>\n",
       "      <td>female</td>\n",
       "      <td>27.900</td>\n",
       "      <td>0</td>\n",
       "      <td>yes</td>\n",
       "      <td>southwest</td>\n",
       "      <td>16884.92400</td>\n",
       "      <td>young</td>\n",
       "      <td>overweight</td>\n",
       "    </tr>\n",
       "    <tr>\n",
       "      <th>1</th>\n",
       "      <td>18</td>\n",
       "      <td>male</td>\n",
       "      <td>33.770</td>\n",
       "      <td>1</td>\n",
       "      <td>no</td>\n",
       "      <td>southeast</td>\n",
       "      <td>1725.55230</td>\n",
       "      <td>young</td>\n",
       "      <td>obesity</td>\n",
       "    </tr>\n",
       "    <tr>\n",
       "      <th>2</th>\n",
       "      <td>28</td>\n",
       "      <td>male</td>\n",
       "      <td>33.000</td>\n",
       "      <td>3</td>\n",
       "      <td>no</td>\n",
       "      <td>southeast</td>\n",
       "      <td>4449.46200</td>\n",
       "      <td>young</td>\n",
       "      <td>obesity</td>\n",
       "    </tr>\n",
       "    <tr>\n",
       "      <th>3</th>\n",
       "      <td>33</td>\n",
       "      <td>male</td>\n",
       "      <td>22.705</td>\n",
       "      <td>0</td>\n",
       "      <td>no</td>\n",
       "      <td>northwest</td>\n",
       "      <td>21984.47061</td>\n",
       "      <td>adult</td>\n",
       "      <td>healthy</td>\n",
       "    </tr>\n",
       "    <tr>\n",
       "      <th>4</th>\n",
       "      <td>32</td>\n",
       "      <td>male</td>\n",
       "      <td>28.880</td>\n",
       "      <td>0</td>\n",
       "      <td>no</td>\n",
       "      <td>northwest</td>\n",
       "      <td>3866.85520</td>\n",
       "      <td>adult</td>\n",
       "      <td>overweight</td>\n",
       "    </tr>\n",
       "    <tr>\n",
       "      <th>...</th>\n",
       "      <td>...</td>\n",
       "      <td>...</td>\n",
       "      <td>...</td>\n",
       "      <td>...</td>\n",
       "      <td>...</td>\n",
       "      <td>...</td>\n",
       "      <td>...</td>\n",
       "      <td>...</td>\n",
       "      <td>...</td>\n",
       "    </tr>\n",
       "    <tr>\n",
       "      <th>1333</th>\n",
       "      <td>50</td>\n",
       "      <td>male</td>\n",
       "      <td>30.970</td>\n",
       "      <td>3</td>\n",
       "      <td>no</td>\n",
       "      <td>northwest</td>\n",
       "      <td>10600.54830</td>\n",
       "      <td>senior</td>\n",
       "      <td>obesity</td>\n",
       "    </tr>\n",
       "    <tr>\n",
       "      <th>1334</th>\n",
       "      <td>18</td>\n",
       "      <td>female</td>\n",
       "      <td>31.920</td>\n",
       "      <td>0</td>\n",
       "      <td>no</td>\n",
       "      <td>northeast</td>\n",
       "      <td>2205.98080</td>\n",
       "      <td>young</td>\n",
       "      <td>obesity</td>\n",
       "    </tr>\n",
       "    <tr>\n",
       "      <th>1335</th>\n",
       "      <td>18</td>\n",
       "      <td>female</td>\n",
       "      <td>36.850</td>\n",
       "      <td>0</td>\n",
       "      <td>no</td>\n",
       "      <td>southeast</td>\n",
       "      <td>1629.83350</td>\n",
       "      <td>young</td>\n",
       "      <td>obesity</td>\n",
       "    </tr>\n",
       "    <tr>\n",
       "      <th>1336</th>\n",
       "      <td>21</td>\n",
       "      <td>female</td>\n",
       "      <td>25.800</td>\n",
       "      <td>0</td>\n",
       "      <td>no</td>\n",
       "      <td>southwest</td>\n",
       "      <td>2007.94500</td>\n",
       "      <td>young</td>\n",
       "      <td>overweight</td>\n",
       "    </tr>\n",
       "    <tr>\n",
       "      <th>1337</th>\n",
       "      <td>61</td>\n",
       "      <td>female</td>\n",
       "      <td>29.070</td>\n",
       "      <td>0</td>\n",
       "      <td>yes</td>\n",
       "      <td>northwest</td>\n",
       "      <td>29141.36030</td>\n",
       "      <td>senior</td>\n",
       "      <td>overweight</td>\n",
       "    </tr>\n",
       "  </tbody>\n",
       "</table>\n",
       "<p>1338 rows × 9 columns</p>\n",
       "</div>"
      ],
      "text/plain": [
       "      age     sex     bmi  children smoker     region      charges  \\\n",
       "0      19  female  27.900         0    yes  southwest  16884.92400   \n",
       "1      18    male  33.770         1     no  southeast   1725.55230   \n",
       "2      28    male  33.000         3     no  southeast   4449.46200   \n",
       "3      33    male  22.705         0     no  northwest  21984.47061   \n",
       "4      32    male  28.880         0     no  northwest   3866.85520   \n",
       "...   ...     ...     ...       ...    ...        ...          ...   \n",
       "1333   50    male  30.970         3     no  northwest  10600.54830   \n",
       "1334   18  female  31.920         0     no  northeast   2205.98080   \n",
       "1335   18  female  36.850         0     no  southeast   1629.83350   \n",
       "1336   21  female  25.800         0     no  southwest   2007.94500   \n",
       "1337   61  female  29.070         0    yes  northwest  29141.36030   \n",
       "\n",
       "     age_category bmi_category  \n",
       "0           young   overweight  \n",
       "1           young      obesity  \n",
       "2           young      obesity  \n",
       "3           adult      healthy  \n",
       "4           adult   overweight  \n",
       "...           ...          ...  \n",
       "1333       senior      obesity  \n",
       "1334        young      obesity  \n",
       "1335        young      obesity  \n",
       "1336        young   overweight  \n",
       "1337       senior   overweight  \n",
       "\n",
       "[1338 rows x 9 columns]"
      ]
     },
     "execution_count": 75,
     "metadata": {},
     "output_type": "execute_result"
    }
   ],
   "source": [
    "# Define conditions for BMI ranges\n",
    "conditions = [\n",
    "    (df['bmi'] < 18.5),  # Underweight\n",
    "    (df['bmi'] >= 18.5) & (df['bmi'] < 25.0),  # Healthy Weight (changed <= 24.9 to < 25.0 for clarity)\n",
    "    (df['bmi'] >= 25.0) & (df['bmi'] < 30.0),  # Overweight (changed <= 29.9 to < 30.0 for clarity)\n",
    "    (df['bmi'] >= 30.0)  # Obesity\n",
    "]\n",
    "\n",
    "# Define the corresponding categories\n",
    "choices = ['underweight', 'healthy', 'overweight', 'obesity']\n",
    "\n",
    "# Apply the conditions to create the BMI_Category column\n",
    "df['bmi_category'] = np.select(conditions, choices)\n",
    "\n",
    "df"
   ]
  },
  {
   "cell_type": "markdown",
   "metadata": {},
   "source": [
    "### Cardinality"
   ]
  },
  {
   "cell_type": "code",
   "execution_count": 76,
   "metadata": {},
   "outputs": [
    {
     "data": {
      "text/html": [
       "<div>\n",
       "<style scoped>\n",
       "    .dataframe tbody tr th:only-of-type {\n",
       "        vertical-align: middle;\n",
       "    }\n",
       "\n",
       "    .dataframe tbody tr th {\n",
       "        vertical-align: top;\n",
       "    }\n",
       "\n",
       "    .dataframe thead th {\n",
       "        text-align: right;\n",
       "    }\n",
       "</style>\n",
       "<table border=\"1\" class=\"dataframe\">\n",
       "  <thead>\n",
       "    <tr style=\"text-align: right;\">\n",
       "      <th></th>\n",
       "      <th>nama kolom</th>\n",
       "      <th>jumlah nilai unique</th>\n",
       "      <th>nilai unique</th>\n",
       "    </tr>\n",
       "  </thead>\n",
       "  <tbody>\n",
       "    <tr>\n",
       "      <th>0</th>\n",
       "      <td>sex</td>\n",
       "      <td>2</td>\n",
       "      <td>[female, male]</td>\n",
       "    </tr>\n",
       "    <tr>\n",
       "      <th>1</th>\n",
       "      <td>smoker</td>\n",
       "      <td>2</td>\n",
       "      <td>[yes, no]</td>\n",
       "    </tr>\n",
       "    <tr>\n",
       "      <th>2</th>\n",
       "      <td>region</td>\n",
       "      <td>4</td>\n",
       "      <td>[southwest, southeast, northwest, northeast]</td>\n",
       "    </tr>\n",
       "    <tr>\n",
       "      <th>3</th>\n",
       "      <td>age_category</td>\n",
       "      <td>3</td>\n",
       "      <td>[young, adult, senior]</td>\n",
       "    </tr>\n",
       "    <tr>\n",
       "      <th>4</th>\n",
       "      <td>bmi_category</td>\n",
       "      <td>4</td>\n",
       "      <td>[overweight, obesity, healthy, underweight]</td>\n",
       "    </tr>\n",
       "  </tbody>\n",
       "</table>\n",
       "</div>"
      ],
      "text/plain": [
       "     nama kolom  jumlah nilai unique  \\\n",
       "0           sex                    2   \n",
       "1        smoker                    2   \n",
       "2        region                    4   \n",
       "3  age_category                    3   \n",
       "4  bmi_category                    4   \n",
       "\n",
       "                                   nilai unique  \n",
       "0                                [female, male]  \n",
       "1                                     [yes, no]  \n",
       "2  [southwest, southeast, northwest, northeast]  \n",
       "3                        [young, adult, senior]  \n",
       "4   [overweight, obesity, healthy, underweight]  "
      ]
     },
     "execution_count": 76,
     "metadata": {},
     "output_type": "execute_result"
    }
   ],
   "source": [
    "pd.set_option('display.max_colwidth', None)\n",
    "\n",
    "cat_cols = list(df.select_dtypes(include='object').columns)\n",
    "\n",
    "listItem = []\n",
    "for col in cat_cols:\n",
    "  listItem.append([col, df[col].nunique(), df[col].unique()])\n",
    "\n",
    "pd.DataFrame(columns=['nama kolom', 'jumlah nilai unique', 'nilai unique'], data=listItem)"
   ]
  },
  {
   "cell_type": "markdown",
   "metadata": {},
   "source": [
    "### Splitting Feature"
   ]
  },
  {
   "cell_type": "markdown",
   "metadata": {},
   "source": [
    "#### Splitting Features and Target"
   ]
  },
  {
   "cell_type": "code",
   "execution_count": 77,
   "metadata": {},
   "outputs": [
    {
     "data": {
      "text/html": [
       "<div>\n",
       "<style scoped>\n",
       "    .dataframe tbody tr th:only-of-type {\n",
       "        vertical-align: middle;\n",
       "    }\n",
       "\n",
       "    .dataframe tbody tr th {\n",
       "        vertical-align: top;\n",
       "    }\n",
       "\n",
       "    .dataframe thead th {\n",
       "        text-align: right;\n",
       "    }\n",
       "</style>\n",
       "<table border=\"1\" class=\"dataframe\">\n",
       "  <thead>\n",
       "    <tr style=\"text-align: right;\">\n",
       "      <th></th>\n",
       "      <th>age</th>\n",
       "      <th>sex</th>\n",
       "      <th>bmi</th>\n",
       "      <th>children</th>\n",
       "      <th>smoker</th>\n",
       "      <th>region</th>\n",
       "      <th>age_category</th>\n",
       "      <th>bmi_category</th>\n",
       "    </tr>\n",
       "  </thead>\n",
       "  <tbody>\n",
       "    <tr>\n",
       "      <th>0</th>\n",
       "      <td>19</td>\n",
       "      <td>female</td>\n",
       "      <td>27.900</td>\n",
       "      <td>0</td>\n",
       "      <td>yes</td>\n",
       "      <td>southwest</td>\n",
       "      <td>young</td>\n",
       "      <td>overweight</td>\n",
       "    </tr>\n",
       "    <tr>\n",
       "      <th>1</th>\n",
       "      <td>18</td>\n",
       "      <td>male</td>\n",
       "      <td>33.770</td>\n",
       "      <td>1</td>\n",
       "      <td>no</td>\n",
       "      <td>southeast</td>\n",
       "      <td>young</td>\n",
       "      <td>obesity</td>\n",
       "    </tr>\n",
       "    <tr>\n",
       "      <th>2</th>\n",
       "      <td>28</td>\n",
       "      <td>male</td>\n",
       "      <td>33.000</td>\n",
       "      <td>3</td>\n",
       "      <td>no</td>\n",
       "      <td>southeast</td>\n",
       "      <td>young</td>\n",
       "      <td>obesity</td>\n",
       "    </tr>\n",
       "    <tr>\n",
       "      <th>3</th>\n",
       "      <td>33</td>\n",
       "      <td>male</td>\n",
       "      <td>22.705</td>\n",
       "      <td>0</td>\n",
       "      <td>no</td>\n",
       "      <td>northwest</td>\n",
       "      <td>adult</td>\n",
       "      <td>healthy</td>\n",
       "    </tr>\n",
       "    <tr>\n",
       "      <th>4</th>\n",
       "      <td>32</td>\n",
       "      <td>male</td>\n",
       "      <td>28.880</td>\n",
       "      <td>0</td>\n",
       "      <td>no</td>\n",
       "      <td>northwest</td>\n",
       "      <td>adult</td>\n",
       "      <td>overweight</td>\n",
       "    </tr>\n",
       "    <tr>\n",
       "      <th>...</th>\n",
       "      <td>...</td>\n",
       "      <td>...</td>\n",
       "      <td>...</td>\n",
       "      <td>...</td>\n",
       "      <td>...</td>\n",
       "      <td>...</td>\n",
       "      <td>...</td>\n",
       "      <td>...</td>\n",
       "    </tr>\n",
       "    <tr>\n",
       "      <th>1333</th>\n",
       "      <td>50</td>\n",
       "      <td>male</td>\n",
       "      <td>30.970</td>\n",
       "      <td>3</td>\n",
       "      <td>no</td>\n",
       "      <td>northwest</td>\n",
       "      <td>senior</td>\n",
       "      <td>obesity</td>\n",
       "    </tr>\n",
       "    <tr>\n",
       "      <th>1334</th>\n",
       "      <td>18</td>\n",
       "      <td>female</td>\n",
       "      <td>31.920</td>\n",
       "      <td>0</td>\n",
       "      <td>no</td>\n",
       "      <td>northeast</td>\n",
       "      <td>young</td>\n",
       "      <td>obesity</td>\n",
       "    </tr>\n",
       "    <tr>\n",
       "      <th>1335</th>\n",
       "      <td>18</td>\n",
       "      <td>female</td>\n",
       "      <td>36.850</td>\n",
       "      <td>0</td>\n",
       "      <td>no</td>\n",
       "      <td>southeast</td>\n",
       "      <td>young</td>\n",
       "      <td>obesity</td>\n",
       "    </tr>\n",
       "    <tr>\n",
       "      <th>1336</th>\n",
       "      <td>21</td>\n",
       "      <td>female</td>\n",
       "      <td>25.800</td>\n",
       "      <td>0</td>\n",
       "      <td>no</td>\n",
       "      <td>southwest</td>\n",
       "      <td>young</td>\n",
       "      <td>overweight</td>\n",
       "    </tr>\n",
       "    <tr>\n",
       "      <th>1337</th>\n",
       "      <td>61</td>\n",
       "      <td>female</td>\n",
       "      <td>29.070</td>\n",
       "      <td>0</td>\n",
       "      <td>yes</td>\n",
       "      <td>northwest</td>\n",
       "      <td>senior</td>\n",
       "      <td>overweight</td>\n",
       "    </tr>\n",
       "  </tbody>\n",
       "</table>\n",
       "<p>1338 rows × 8 columns</p>\n",
       "</div>"
      ],
      "text/plain": [
       "      age     sex     bmi  children smoker     region age_category  \\\n",
       "0      19  female  27.900         0    yes  southwest        young   \n",
       "1      18    male  33.770         1     no  southeast        young   \n",
       "2      28    male  33.000         3     no  southeast        young   \n",
       "3      33    male  22.705         0     no  northwest        adult   \n",
       "4      32    male  28.880         0     no  northwest        adult   \n",
       "...   ...     ...     ...       ...    ...        ...          ...   \n",
       "1333   50    male  30.970         3     no  northwest       senior   \n",
       "1334   18  female  31.920         0     no  northeast        young   \n",
       "1335   18  female  36.850         0     no  southeast        young   \n",
       "1336   21  female  25.800         0     no  southwest        young   \n",
       "1337   61  female  29.070         0    yes  northwest       senior   \n",
       "\n",
       "     bmi_category  \n",
       "0      overweight  \n",
       "1         obesity  \n",
       "2         obesity  \n",
       "3         healthy  \n",
       "4      overweight  \n",
       "...           ...  \n",
       "1333      obesity  \n",
       "1334      obesity  \n",
       "1335      obesity  \n",
       "1336   overweight  \n",
       "1337   overweight  \n",
       "\n",
       "[1338 rows x 8 columns]"
      ]
     },
     "execution_count": 77,
     "metadata": {},
     "output_type": "execute_result"
    }
   ],
   "source": [
    "#Splitting antara X (features) dan y (target)\n",
    "X = df.drop(['charges'], axis = 1)\n",
    "y = df['charges']\n",
    "X"
   ]
  },
  {
   "cell_type": "code",
   "execution_count": 78,
   "metadata": {},
   "outputs": [
    {
     "data": {
      "text/plain": [
       "0       16884.92400\n",
       "1        1725.55230\n",
       "2        4449.46200\n",
       "3       21984.47061\n",
       "4        3866.85520\n",
       "           ...     \n",
       "1333    10600.54830\n",
       "1334     2205.98080\n",
       "1335     1629.83350\n",
       "1336     2007.94500\n",
       "1337    29141.36030\n",
       "Name: charges, Length: 1338, dtype: float64"
      ]
     },
     "execution_count": 78,
     "metadata": {},
     "output_type": "execute_result"
    }
   ],
   "source": [
    "y"
   ]
  },
  {
   "cell_type": "code",
   "execution_count": 79,
   "metadata": {},
   "outputs": [
    {
     "name": "stdout",
     "output_type": "stream",
     "text": [
      "<class 'pandas.core.frame.DataFrame'>\n",
      "RangeIndex: 1338 entries, 0 to 1337\n",
      "Data columns (total 8 columns):\n",
      " #   Column        Non-Null Count  Dtype  \n",
      "---  ------        --------------  -----  \n",
      " 0   age           1338 non-null   int64  \n",
      " 1   sex           1338 non-null   object \n",
      " 2   bmi           1338 non-null   float64\n",
      " 3   children      1338 non-null   int64  \n",
      " 4   smoker        1338 non-null   object \n",
      " 5   region        1338 non-null   object \n",
      " 6   age_category  1338 non-null   object \n",
      " 7   bmi_category  1338 non-null   object \n",
      "dtypes: float64(1), int64(2), object(5)\n",
      "memory usage: 83.8+ KB\n"
     ]
    }
   ],
   "source": [
    "X.info()"
   ]
  },
  {
   "cell_type": "markdown",
   "metadata": {},
   "source": [
    "#### Splitting Between Train Set and Test Set"
   ]
  },
  {
   "cell_type": "code",
   "execution_count": 80,
   "metadata": {},
   "outputs": [
    {
     "name": "stdout",
     "output_type": "stream",
     "text": [
      "Train Size (1070, 8)\n",
      "Test Size (268, 8)\n"
     ]
    }
   ],
   "source": [
    "# Splitting training & testing set\n",
    "X_train, X_test, y_train, y_test = train_test_split(X, y, test_size = 0.2, random_state = 12)\n",
    "print('Train Size', X_train.shape)\n",
    "print('Test Size', X_test.shape)"
   ]
  },
  {
   "cell_type": "markdown",
   "metadata": {},
   "source": [
    "## Feature Extraction"
   ]
  },
  {
   "cell_type": "markdown",
   "metadata": {},
   "source": [
    "## Feature Transformation"
   ]
  },
  {
   "cell_type": "markdown",
   "metadata": {},
   "source": [
    "### Outlier Handling"
   ]
  },
  {
   "cell_type": "code",
   "execution_count": 81,
   "metadata": {},
   "outputs": [
    {
     "data": {
      "text/html": [
       "<div>\n",
       "<style scoped>\n",
       "    .dataframe tbody tr th:only-of-type {\n",
       "        vertical-align: middle;\n",
       "    }\n",
       "\n",
       "    .dataframe tbody tr th {\n",
       "        vertical-align: top;\n",
       "    }\n",
       "\n",
       "    .dataframe thead th {\n",
       "        text-align: right;\n",
       "    }\n",
       "</style>\n",
       "<table border=\"1\" class=\"dataframe\">\n",
       "  <thead>\n",
       "    <tr style=\"text-align: right;\">\n",
       "      <th></th>\n",
       "      <th>nama kolom</th>\n",
       "      <th>nilai skewness</th>\n",
       "      <th>distribution</th>\n",
       "    </tr>\n",
       "  </thead>\n",
       "  <tbody>\n",
       "    <tr>\n",
       "      <th>0</th>\n",
       "      <td>age</td>\n",
       "      <td>0.1</td>\n",
       "      <td>normal</td>\n",
       "    </tr>\n",
       "    <tr>\n",
       "      <th>1</th>\n",
       "      <td>bmi</td>\n",
       "      <td>0.3</td>\n",
       "      <td>normal</td>\n",
       "    </tr>\n",
       "    <tr>\n",
       "      <th>2</th>\n",
       "      <td>children</td>\n",
       "      <td>1.0</td>\n",
       "      <td>skewed</td>\n",
       "    </tr>\n",
       "  </tbody>\n",
       "</table>\n",
       "</div>"
      ],
      "text/plain": [
       "  nama kolom  nilai skewness distribution\n",
       "0        age             0.1       normal\n",
       "1        bmi             0.3       normal\n",
       "2   children             1.0       skewed"
      ]
     },
     "execution_count": 81,
     "metadata": {},
     "output_type": "execute_result"
    }
   ],
   "source": [
    "#check distribution form skewness\n",
    "num_cols = list(X_train.select_dtypes(exclude='object').columns)\n",
    "\n",
    "listItem= []\n",
    "\n",
    "for col in num_cols:\n",
    "  listItem.append([col, round(X_train[col].skew(),1), np.where(\n",
    "    (round(X_train[col].skew(),1) <= 0.5) & (round(X_train[col].skew(),1) >= -0.5),\n",
    "    'normal',\n",
    "    'skewed')])\n",
    "\n",
    "skewness = pd.DataFrame(columns=['nama kolom', 'nilai skewness', 'distribution'], data= listItem)\n",
    "skewness"
   ]
  },
  {
   "cell_type": "code",
   "execution_count": 82,
   "metadata": {},
   "outputs": [
    {
     "data": {
      "text/html": [
       "<div>\n",
       "<style scoped>\n",
       "    .dataframe tbody tr th:only-of-type {\n",
       "        vertical-align: middle;\n",
       "    }\n",
       "\n",
       "    .dataframe tbody tr th {\n",
       "        vertical-align: top;\n",
       "    }\n",
       "\n",
       "    .dataframe thead th {\n",
       "        text-align: right;\n",
       "    }\n",
       "</style>\n",
       "<table border=\"1\" class=\"dataframe\">\n",
       "  <thead>\n",
       "    <tr style=\"text-align: right;\">\n",
       "      <th></th>\n",
       "      <th>column</th>\n",
       "      <th>upper_boundary</th>\n",
       "      <th>lower_boundary</th>\n",
       "      <th>percentage_total_outlier</th>\n",
       "    </tr>\n",
       "  </thead>\n",
       "  <tbody>\n",
       "    <tr>\n",
       "      <th>0</th>\n",
       "      <td>age</td>\n",
       "      <td>81.73</td>\n",
       "      <td>-3.79</td>\n",
       "      <td>0.00</td>\n",
       "    </tr>\n",
       "    <tr>\n",
       "      <th>1</th>\n",
       "      <td>bmi</td>\n",
       "      <td>49.11</td>\n",
       "      <td>12.40</td>\n",
       "      <td>0.19</td>\n",
       "    </tr>\n",
       "    <tr>\n",
       "      <th>2</th>\n",
       "      <td>children</td>\n",
       "      <td>8.00</td>\n",
       "      <td>-6.00</td>\n",
       "      <td>0.00</td>\n",
       "    </tr>\n",
       "  </tbody>\n",
       "</table>\n",
       "</div>"
      ],
      "text/plain": [
       "     column  upper_boundary  lower_boundary  percentage_total_outlier\n",
       "0       age           81.73           -3.79                      0.00\n",
       "1       bmi           49.11           12.40                      0.19\n",
       "2  children            8.00           -6.00                      0.00"
      ]
     },
     "execution_count": 82,
     "metadata": {},
     "output_type": "execute_result"
    }
   ],
   "source": [
    "# Get upper, lower boundaries and percentage of outliers\n",
    "\n",
    "column = []\n",
    "lower_bound = []\n",
    "upper_bound = []\n",
    "percent_total_outlier = []\n",
    "\n",
    "for row in range (0, len(skewness)):\n",
    "  col = skewness['nama kolom'][row]\n",
    "  #checking upper and lower boundary\n",
    "  if skewness['distribution'][row] == 'skewed':\n",
    "    IQR = X_train[col].quantile(0.75) - X_train[col].quantile(0.25)\n",
    "    lower_boundary = X_train[col].quantile(0.25) - (IQR * 3)\n",
    "    upper_boundary = X_train[col].quantile(0.75) + (IQR * 3)\n",
    "  else:\n",
    "    lower_boundary = X_train[col].mean() - 3* X_train[col].std()\n",
    "    upper_boundary = X_train[col].mean() + 3* X_train[col].std()\n",
    "  #append to list\n",
    "  column.append(col)\n",
    "  lower_bound.append(lower_boundary)\n",
    "  upper_bound.append(upper_boundary)\n",
    "  totout = ((len(X_train[X_train[col] > upper_boundary]) / len(X_train) * 100) + (len(X_train[X_train[col] < lower_boundary]) / len(X_train) * 100))\n",
    "  percent_total_outlier.append(totout)\n",
    "\n",
    "outliers = pd.DataFrame({\n",
    "    'column': column,\n",
    "    #round the value\n",
    "    'upper_boundary': [round(upper_bound,2) for upper_bound in upper_bound],\n",
    "    'lower_boundary': [round(lower_bound,2) for lower_bound in lower_bound],\n",
    "    'percentage_total_outlier': [round(percent_total_outlier,2) for percent_total_outlier in percent_total_outlier]\n",
    "})\n",
    "outliers"
   ]
  },
  {
   "cell_type": "markdown",
   "metadata": {},
   "source": [
    "Tidak dilakukan handling outlier, "
   ]
  },
  {
   "cell_type": "code",
   "execution_count": 83,
   "metadata": {},
   "outputs": [
    {
     "data": {
      "text/html": [
       "<div>\n",
       "<style scoped>\n",
       "    .dataframe tbody tr th:only-of-type {\n",
       "        vertical-align: middle;\n",
       "    }\n",
       "\n",
       "    .dataframe tbody tr th {\n",
       "        vertical-align: top;\n",
       "    }\n",
       "\n",
       "    .dataframe thead th {\n",
       "        text-align: right;\n",
       "    }\n",
       "</style>\n",
       "<table border=\"1\" class=\"dataframe\">\n",
       "  <thead>\n",
       "    <tr style=\"text-align: right;\">\n",
       "      <th></th>\n",
       "      <th>count</th>\n",
       "      <th>mean</th>\n",
       "      <th>std</th>\n",
       "      <th>min</th>\n",
       "      <th>25%</th>\n",
       "      <th>50%</th>\n",
       "      <th>75%</th>\n",
       "      <th>max</th>\n",
       "    </tr>\n",
       "  </thead>\n",
       "  <tbody>\n",
       "    <tr>\n",
       "      <th>age</th>\n",
       "      <td>1070.0</td>\n",
       "      <td>38.97</td>\n",
       "      <td>14.25</td>\n",
       "      <td>18.00</td>\n",
       "      <td>26.0</td>\n",
       "      <td>39.0</td>\n",
       "      <td>51.0</td>\n",
       "      <td>64.00</td>\n",
       "    </tr>\n",
       "    <tr>\n",
       "      <th>bmi</th>\n",
       "      <td>1070.0</td>\n",
       "      <td>30.76</td>\n",
       "      <td>6.12</td>\n",
       "      <td>16.82</td>\n",
       "      <td>26.3</td>\n",
       "      <td>30.5</td>\n",
       "      <td>34.8</td>\n",
       "      <td>53.13</td>\n",
       "    </tr>\n",
       "    <tr>\n",
       "      <th>children</th>\n",
       "      <td>1070.0</td>\n",
       "      <td>1.07</td>\n",
       "      <td>1.19</td>\n",
       "      <td>0.00</td>\n",
       "      <td>0.0</td>\n",
       "      <td>1.0</td>\n",
       "      <td>2.0</td>\n",
       "      <td>5.00</td>\n",
       "    </tr>\n",
       "  </tbody>\n",
       "</table>\n",
       "</div>"
      ],
      "text/plain": [
       "           count   mean    std    min   25%   50%   75%    max\n",
       "age       1070.0  38.97  14.25  18.00  26.0  39.0  51.0  64.00\n",
       "bmi       1070.0  30.76   6.12  16.82  26.3  30.5  34.8  53.13\n",
       "children  1070.0   1.07   1.19   0.00   0.0   1.0   2.0   5.00"
      ]
     },
     "execution_count": 83,
     "metadata": {},
     "output_type": "execute_result"
    }
   ],
   "source": [
    "#compare with column stats\n",
    "X_train.describe().round(2).T"
   ]
  },
  {
   "cell_type": "markdown",
   "metadata": {},
   "source": [
    "### Missing Values Handling"
   ]
  },
  {
   "cell_type": "code",
   "execution_count": 84,
   "metadata": {},
   "outputs": [
    {
     "data": {
      "text/plain": [
       "age             0\n",
       "sex             0\n",
       "bmi             0\n",
       "children        0\n",
       "smoker          0\n",
       "region          0\n",
       "age_category    0\n",
       "bmi_category    0\n",
       "dtype: int64"
      ]
     },
     "execution_count": 84,
     "metadata": {},
     "output_type": "execute_result"
    }
   ],
   "source": [
    "X_train.isnull().sum()"
   ]
  },
  {
   "cell_type": "code",
   "execution_count": 85,
   "metadata": {},
   "outputs": [
    {
     "data": {
      "text/plain": [
       "age             0\n",
       "sex             0\n",
       "bmi             0\n",
       "children        0\n",
       "smoker          0\n",
       "region          0\n",
       "age_category    0\n",
       "bmi_category    0\n",
       "dtype: int64"
      ]
     },
     "execution_count": 85,
     "metadata": {},
     "output_type": "execute_result"
    }
   ],
   "source": [
    "X_test.isnull().sum()"
   ]
  },
  {
   "cell_type": "markdown",
   "metadata": {},
   "source": [
    "### Feature Scaling"
   ]
  },
  {
   "cell_type": "markdown",
   "metadata": {},
   "source": [
    "### Feature Encoding"
   ]
  },
  {
   "cell_type": "markdown",
   "metadata": {},
   "source": [
    "## Feature Selection"
   ]
  },
  {
   "cell_type": "code",
   "execution_count": 86,
   "metadata": {},
   "outputs": [
    {
     "name": "stdout",
     "output_type": "stream",
     "text": [
      "Numeric Columns :  ['age', 'bmi', 'children']\n",
      "Categorical Columns :  ['sex', 'smoker', 'region', 'age_category', 'bmi_category']\n"
     ]
    }
   ],
   "source": [
    "# Get numeric and categorical column\n",
    "\n",
    "num_columns = X_train.select_dtypes(include = np.number).columns.tolist()\n",
    "\n",
    "cat_columns = X_train.select_dtypes(include = ['object']).columns.tolist()\n",
    "\n",
    "print('Numeric Columns : ', num_columns)\n",
    "print('Categorical Columns : ', cat_columns)"
   ]
  },
  {
   "cell_type": "code",
   "execution_count": 87,
   "metadata": {},
   "outputs": [
    {
     "data": {
      "text/html": [
       "<div>\n",
       "<style scoped>\n",
       "    .dataframe tbody tr th:only-of-type {\n",
       "        vertical-align: middle;\n",
       "    }\n",
       "\n",
       "    .dataframe tbody tr th {\n",
       "        vertical-align: top;\n",
       "    }\n",
       "\n",
       "    .dataframe thead th {\n",
       "        text-align: right;\n",
       "    }\n",
       "</style>\n",
       "<table border=\"1\" class=\"dataframe\">\n",
       "  <thead>\n",
       "    <tr style=\"text-align: right;\">\n",
       "      <th></th>\n",
       "      <th>age</th>\n",
       "      <th>bmi</th>\n",
       "      <th>children</th>\n",
       "    </tr>\n",
       "  </thead>\n",
       "  <tbody>\n",
       "    <tr>\n",
       "      <th>161</th>\n",
       "      <td>18</td>\n",
       "      <td>36.850</td>\n",
       "      <td>0</td>\n",
       "    </tr>\n",
       "    <tr>\n",
       "      <th>1032</th>\n",
       "      <td>30</td>\n",
       "      <td>27.930</td>\n",
       "      <td>0</td>\n",
       "    </tr>\n",
       "    <tr>\n",
       "      <th>151</th>\n",
       "      <td>48</td>\n",
       "      <td>29.700</td>\n",
       "      <td>0</td>\n",
       "    </tr>\n",
       "    <tr>\n",
       "      <th>759</th>\n",
       "      <td>18</td>\n",
       "      <td>38.170</td>\n",
       "      <td>0</td>\n",
       "    </tr>\n",
       "    <tr>\n",
       "      <th>362</th>\n",
       "      <td>19</td>\n",
       "      <td>21.700</td>\n",
       "      <td>0</td>\n",
       "    </tr>\n",
       "    <tr>\n",
       "      <th>...</th>\n",
       "      <td>...</td>\n",
       "      <td>...</td>\n",
       "      <td>...</td>\n",
       "    </tr>\n",
       "    <tr>\n",
       "      <th>278</th>\n",
       "      <td>59</td>\n",
       "      <td>31.790</td>\n",
       "      <td>2</td>\n",
       "    </tr>\n",
       "    <tr>\n",
       "      <th>432</th>\n",
       "      <td>42</td>\n",
       "      <td>26.900</td>\n",
       "      <td>0</td>\n",
       "    </tr>\n",
       "    <tr>\n",
       "      <th>1283</th>\n",
       "      <td>18</td>\n",
       "      <td>30.030</td>\n",
       "      <td>1</td>\n",
       "    </tr>\n",
       "    <tr>\n",
       "      <th>1265</th>\n",
       "      <td>64</td>\n",
       "      <td>23.760</td>\n",
       "      <td>0</td>\n",
       "    </tr>\n",
       "    <tr>\n",
       "      <th>1277</th>\n",
       "      <td>32</td>\n",
       "      <td>29.735</td>\n",
       "      <td>0</td>\n",
       "    </tr>\n",
       "  </tbody>\n",
       "</table>\n",
       "<p>1070 rows × 3 columns</p>\n",
       "</div>"
      ],
      "text/plain": [
       "      age     bmi  children\n",
       "161    18  36.850         0\n",
       "1032   30  27.930         0\n",
       "151    48  29.700         0\n",
       "759    18  38.170         0\n",
       "362    19  21.700         0\n",
       "...   ...     ...       ...\n",
       "278    59  31.790         2\n",
       "432    42  26.900         0\n",
       "1283   18  30.030         1\n",
       "1265   64  23.760         0\n",
       "1277   32  29.735         0\n",
       "\n",
       "[1070 rows x 3 columns]"
      ]
     },
     "execution_count": 87,
     "metadata": {},
     "output_type": "execute_result"
    }
   ],
   "source": [
    "#split numerical and categorical columns\n",
    "\n",
    "X_train_num = X_train[num_columns]\n",
    "X_test_num = X_test[num_columns]\n",
    "\n",
    "X_train_cat = X_train[cat_columns]\n",
    "X_test_cat = X_test[cat_columns]\n",
    "\n",
    "X_train_num"
   ]
  },
  {
   "cell_type": "code",
   "execution_count": 88,
   "metadata": {},
   "outputs": [
    {
     "data": {
      "text/html": [
       "<div>\n",
       "<style scoped>\n",
       "    .dataframe tbody tr th:only-of-type {\n",
       "        vertical-align: middle;\n",
       "    }\n",
       "\n",
       "    .dataframe tbody tr th {\n",
       "        vertical-align: top;\n",
       "    }\n",
       "\n",
       "    .dataframe thead th {\n",
       "        text-align: right;\n",
       "    }\n",
       "</style>\n",
       "<table border=\"1\" class=\"dataframe\">\n",
       "  <thead>\n",
       "    <tr style=\"text-align: right;\">\n",
       "      <th></th>\n",
       "      <th>sex</th>\n",
       "      <th>smoker</th>\n",
       "      <th>region</th>\n",
       "      <th>age_category</th>\n",
       "      <th>bmi_category</th>\n",
       "    </tr>\n",
       "  </thead>\n",
       "  <tbody>\n",
       "    <tr>\n",
       "      <th>161</th>\n",
       "      <td>female</td>\n",
       "      <td>yes</td>\n",
       "      <td>southeast</td>\n",
       "      <td>young</td>\n",
       "      <td>obesity</td>\n",
       "    </tr>\n",
       "    <tr>\n",
       "      <th>1032</th>\n",
       "      <td>female</td>\n",
       "      <td>no</td>\n",
       "      <td>northeast</td>\n",
       "      <td>young</td>\n",
       "      <td>overweight</td>\n",
       "    </tr>\n",
       "    <tr>\n",
       "      <th>151</th>\n",
       "      <td>male</td>\n",
       "      <td>no</td>\n",
       "      <td>southeast</td>\n",
       "      <td>senior</td>\n",
       "      <td>overweight</td>\n",
       "    </tr>\n",
       "    <tr>\n",
       "      <th>759</th>\n",
       "      <td>male</td>\n",
       "      <td>yes</td>\n",
       "      <td>southeast</td>\n",
       "      <td>young</td>\n",
       "      <td>obesity</td>\n",
       "    </tr>\n",
       "    <tr>\n",
       "      <th>362</th>\n",
       "      <td>female</td>\n",
       "      <td>yes</td>\n",
       "      <td>southwest</td>\n",
       "      <td>young</td>\n",
       "      <td>healthy</td>\n",
       "    </tr>\n",
       "    <tr>\n",
       "      <th>...</th>\n",
       "      <td>...</td>\n",
       "      <td>...</td>\n",
       "      <td>...</td>\n",
       "      <td>...</td>\n",
       "      <td>...</td>\n",
       "    </tr>\n",
       "    <tr>\n",
       "      <th>278</th>\n",
       "      <td>male</td>\n",
       "      <td>no</td>\n",
       "      <td>southeast</td>\n",
       "      <td>senior</td>\n",
       "      <td>obesity</td>\n",
       "    </tr>\n",
       "    <tr>\n",
       "      <th>432</th>\n",
       "      <td>male</td>\n",
       "      <td>no</td>\n",
       "      <td>southwest</td>\n",
       "      <td>adult</td>\n",
       "      <td>overweight</td>\n",
       "    </tr>\n",
       "    <tr>\n",
       "      <th>1283</th>\n",
       "      <td>male</td>\n",
       "      <td>no</td>\n",
       "      <td>southeast</td>\n",
       "      <td>young</td>\n",
       "      <td>obesity</td>\n",
       "    </tr>\n",
       "    <tr>\n",
       "      <th>1265</th>\n",
       "      <td>male</td>\n",
       "      <td>yes</td>\n",
       "      <td>southeast</td>\n",
       "      <td>senior</td>\n",
       "      <td>healthy</td>\n",
       "    </tr>\n",
       "    <tr>\n",
       "      <th>1277</th>\n",
       "      <td>female</td>\n",
       "      <td>no</td>\n",
       "      <td>northwest</td>\n",
       "      <td>adult</td>\n",
       "      <td>overweight</td>\n",
       "    </tr>\n",
       "  </tbody>\n",
       "</table>\n",
       "<p>1070 rows × 5 columns</p>\n",
       "</div>"
      ],
      "text/plain": [
       "         sex smoker     region age_category bmi_category\n",
       "161   female    yes  southeast        young      obesity\n",
       "1032  female     no  northeast        young   overweight\n",
       "151     male     no  southeast       senior   overweight\n",
       "759     male    yes  southeast        young      obesity\n",
       "362   female    yes  southwest        young      healthy\n",
       "...      ...    ...        ...          ...          ...\n",
       "278     male     no  southeast       senior      obesity\n",
       "432     male     no  southwest        adult   overweight\n",
       "1283    male     no  southeast        young      obesity\n",
       "1265    male    yes  southeast       senior      healthy\n",
       "1277  female     no  northwest        adult   overweight\n",
       "\n",
       "[1070 rows x 5 columns]"
      ]
     },
     "execution_count": 88,
     "metadata": {},
     "output_type": "execute_result"
    }
   ],
   "source": [
    "X_train_cat"
   ]
  },
  {
   "cell_type": "code",
   "execution_count": 89,
   "metadata": {},
   "outputs": [
    {
     "name": "stdout",
     "output_type": "stream",
     "text": [
      "Num columns :  ['age', 'bmi', 'children']\n",
      "Cat columns :  ['sex', 'smoker', 'region', 'age_category', 'bmi_category']\n"
     ]
    }
   ],
   "source": [
    "#get numerical and categorical columns yang udah fix\n",
    "\n",
    "num_columns = X_train_num.columns.tolist()\n",
    "cat_columns = X_train_cat.columns.tolist()\n",
    "\n",
    "print('Num columns : ', num_columns)\n",
    "print('Cat columns : ', cat_columns)"
   ]
  },
  {
   "cell_type": "code",
   "execution_count": 90,
   "metadata": {},
   "outputs": [
    {
     "data": {
      "text/html": [
       "<div>\n",
       "<style scoped>\n",
       "    .dataframe tbody tr th:only-of-type {\n",
       "        vertical-align: middle;\n",
       "    }\n",
       "\n",
       "    .dataframe tbody tr th {\n",
       "        vertical-align: top;\n",
       "    }\n",
       "\n",
       "    .dataframe thead th {\n",
       "        text-align: right;\n",
       "    }\n",
       "</style>\n",
       "<table border=\"1\" class=\"dataframe\">\n",
       "  <thead>\n",
       "    <tr style=\"text-align: right;\">\n",
       "      <th></th>\n",
       "      <th>nama kolom</th>\n",
       "      <th>p-value</th>\n",
       "      <th>hasil</th>\n",
       "    </tr>\n",
       "  </thead>\n",
       "  <tbody>\n",
       "    <tr>\n",
       "      <th>0</th>\n",
       "      <td>sex</td>\n",
       "      <td>0.251704</td>\n",
       "      <td>ga ada korelasi</td>\n",
       "    </tr>\n",
       "    <tr>\n",
       "      <th>1</th>\n",
       "      <td>smoker</td>\n",
       "      <td>0.251704</td>\n",
       "      <td>ada korelasi</td>\n",
       "    </tr>\n",
       "    <tr>\n",
       "      <th>2</th>\n",
       "      <td>region</td>\n",
       "      <td>0.251704</td>\n",
       "      <td>ga ada korelasi</td>\n",
       "    </tr>\n",
       "    <tr>\n",
       "      <th>3</th>\n",
       "      <td>age_category</td>\n",
       "      <td>0.251704</td>\n",
       "      <td>ada korelasi</td>\n",
       "    </tr>\n",
       "    <tr>\n",
       "      <th>4</th>\n",
       "      <td>bmi_category</td>\n",
       "      <td>0.251704</td>\n",
       "      <td>ga ada korelasi</td>\n",
       "    </tr>\n",
       "  </tbody>\n",
       "</table>\n",
       "</div>"
      ],
      "text/plain": [
       "     nama kolom   p-value            hasil\n",
       "0           sex  0.251704  ga ada korelasi\n",
       "1        smoker  0.251704     ada korelasi\n",
       "2        region  0.251704  ga ada korelasi\n",
       "3  age_category  0.251704     ada korelasi\n",
       "4  bmi_category  0.251704  ga ada korelasi"
      ]
     },
     "execution_count": 90,
     "metadata": {},
     "output_type": "execute_result"
    }
   ],
   "source": [
    "from scipy.stats import kendalltau, pearsonr\n",
    "\n",
    "# Feature selection Numerical columns\n",
    "p_values = []\n",
    "interpretasi = []\n",
    "cols = []\n",
    "\n",
    "for col in X_train_cat.columns:\n",
    "  corr_coef, p_value = kendalltau(X_train_cat[col], y_train)\n",
    "\n",
    "  p_values.append(p_value)\n",
    "  cols.append(col)\n",
    "\n",
    "  if p_value < 0.05:\n",
    "    interpretasi.append('ada korelasi')\n",
    "  else :\n",
    "    interpretasi.append('ga ada korelasi')\n",
    "\n",
    "pd.DataFrame({'nama kolom':cols,\n",
    "              'p-value' : p_value,\n",
    "              'hasil': interpretasi})"
   ]
  },
  {
   "cell_type": "code",
   "execution_count": 91,
   "metadata": {},
   "outputs": [
    {
     "data": {
      "text/html": [
       "<div>\n",
       "<style scoped>\n",
       "    .dataframe tbody tr th:only-of-type {\n",
       "        vertical-align: middle;\n",
       "    }\n",
       "\n",
       "    .dataframe tbody tr th {\n",
       "        vertical-align: top;\n",
       "    }\n",
       "\n",
       "    .dataframe thead th {\n",
       "        text-align: right;\n",
       "    }\n",
       "</style>\n",
       "<table border=\"1\" class=\"dataframe\">\n",
       "  <thead>\n",
       "    <tr style=\"text-align: right;\">\n",
       "      <th></th>\n",
       "      <th>nama kolom</th>\n",
       "      <th>p-value</th>\n",
       "      <th>hasil</th>\n",
       "    </tr>\n",
       "  </thead>\n",
       "  <tbody>\n",
       "    <tr>\n",
       "      <th>0</th>\n",
       "      <td>age</td>\n",
       "      <td>0.014935</td>\n",
       "      <td>ada korelasi</td>\n",
       "    </tr>\n",
       "    <tr>\n",
       "      <th>1</th>\n",
       "      <td>bmi</td>\n",
       "      <td>0.014935</td>\n",
       "      <td>ada korelasi</td>\n",
       "    </tr>\n",
       "    <tr>\n",
       "      <th>2</th>\n",
       "      <td>children</td>\n",
       "      <td>0.014935</td>\n",
       "      <td>ada korelasi</td>\n",
       "    </tr>\n",
       "  </tbody>\n",
       "</table>\n",
       "</div>"
      ],
      "text/plain": [
       "  nama kolom   p-value         hasil\n",
       "0        age  0.014935  ada korelasi\n",
       "1        bmi  0.014935  ada korelasi\n",
       "2   children  0.014935  ada korelasi"
      ]
     },
     "execution_count": 91,
     "metadata": {},
     "output_type": "execute_result"
    }
   ],
   "source": [
    "# Feature selection Numerical columns\n",
    "p_values = []\n",
    "interpretasi = []\n",
    "cols = []\n",
    "\n",
    "for col in X_train_num.columns:\n",
    "  corr_coef, p_value = pearsonr(X_train_num[col], y_train)\n",
    "\n",
    "  p_values.append(p_value)\n",
    "  cols.append(col)\n",
    "\n",
    "  if p_value < 0.05:\n",
    "    interpretasi.append('ada korelasi')\n",
    "  else :\n",
    "    interpretasi.append('ga ada korelasi')\n",
    "\n",
    "pd.DataFrame({'nama kolom':cols,\n",
    "              'p-value' : p_value,\n",
    "              'hasil': interpretasi})"
   ]
  },
  {
   "cell_type": "markdown",
   "metadata": {},
   "source": []
  }
 ],
 "metadata": {
  "kernelspec": {
   "display_name": "base",
   "language": "python",
   "name": "python3"
  },
  "language_info": {
   "codemirror_mode": {
    "name": "ipython",
    "version": 3
   },
   "file_extension": ".py",
   "mimetype": "text/x-python",
   "name": "python",
   "nbconvert_exporter": "python",
   "pygments_lexer": "ipython3",
   "version": "3.12.4"
  }
 },
 "nbformat": 4,
 "nbformat_minor": 2
}
